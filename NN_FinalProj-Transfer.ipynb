{
 "cells": [
  {
   "cell_type": "code",
   "execution_count": 1,
   "metadata": {
    "scrolled": true
   },
   "outputs": [
    {
     "name": "stderr",
     "output_type": "stream",
     "text": [
      "Using TensorFlow backend.\n"
     ]
    }
   ],
   "source": [
    "import cv2                  \n",
    "import numpy as np\n",
    "import os\n",
    "from tqdm import tqdm\n",
    "import matplotlib.pyplot as plt\n",
    "import random as rn\n",
    "import tensorflow as tf\n",
    "\n",
    "#sklearn modules\n",
    "from sklearn.model_selection import train_test_split\n",
    "from sklearn.model_selection import KFold\n",
    "from sklearn.metrics import accuracy_score,precision_score,recall_score,confusion_matrix,roc_curve,roc_auc_score\n",
    "from sklearn.model_selection import GridSearchCV\n",
    "from sklearn.preprocessing import LabelEncoder\n",
    "from keras.models import load_model\n",
    "\n",
    "#dl libraraies\n",
    "from keras import backend as K\n",
    "from keras.models import Sequential\n",
    "from keras.layers import Dense\n",
    "from keras.optimizers import Adam,SGD,Adagrad,Adadelta,RMSprop\n",
    "from keras.utils import to_categorical\n",
    "from keras.layers import Dropout, Flatten,Activation\n",
    "from keras.layers import Conv2D, MaxPooling2D, BatchNormalization\n",
    "from keras.callbacks import ReduceLROnPlateau\n",
    "from keras.preprocessing.image import ImageDataGenerator\n",
    "from keras.regularizers import l2\n",
    "from keras.applications.vgg16 import VGG16"
   ]
  },
  {
   "cell_type": "code",
   "execution_count": 2,
   "metadata": {},
   "outputs": [],
   "source": [
    "X=[]\n",
    "Y=[]\n",
    "IMG_SIZE=200\n",
    "FLOWER_DAISY_DIR='flowers/daisy/'\n",
    "FLOWER_SUNFLOWER_DIR='flowers/sunflower/'\n",
    "FLOWER_TULIP_DIR='flowers/tulip/'\n",
    "FLOWER_DANDI_DIR='flowers/dandelion/'\n",
    "FLOWER_ROSE_DIR='flowers/rose/'\n",
    "weights_path='./vgg16_weights_tf_dim_ordering_tf_kernels_notop.h5'"
   ]
  },
  {
   "cell_type": "code",
   "execution_count": 3,
   "metadata": {},
   "outputs": [],
   "source": [
    "def make_train_data(flower_type,DIR):\n",
    "    for img in tqdm(os.listdir(DIR)):\n",
    "        label = flower_type\n",
    "        path = os.path.join(DIR,img)\n",
    "        img = cv2.imread(path,cv2.IMREAD_COLOR)\n",
    "        img = cv2.resize(img, (IMG_SIZE,IMG_SIZE))\n",
    "        img = cv2.cvtColor(img, cv2.COLOR_BGR2RGB)\n",
    "        X.append(np.array(img))\n",
    "        Y.append(str(label))\n",
    "        "
   ]
  },
  {
   "cell_type": "code",
   "execution_count": 4,
   "metadata": {
    "scrolled": true
   },
   "outputs": [
    {
     "name": "stderr",
     "output_type": "stream",
     "text": [
      "100%|██████████| 769/769 [00:02<00:00, 301.44it/s]\n"
     ]
    },
    {
     "name": "stdout",
     "output_type": "stream",
     "text": [
      "769\n"
     ]
    },
    {
     "name": "stderr",
     "output_type": "stream",
     "text": [
      "100%|██████████| 734/734 [00:02<00:00, 276.61it/s]\n"
     ]
    },
    {
     "name": "stdout",
     "output_type": "stream",
     "text": [
      "1503\n"
     ]
    },
    {
     "name": "stderr",
     "output_type": "stream",
     "text": [
      "100%|██████████| 1052/1052 [00:03<00:00, 283.00it/s]\n"
     ]
    },
    {
     "name": "stdout",
     "output_type": "stream",
     "text": [
      "2555\n"
     ]
    },
    {
     "name": "stderr",
     "output_type": "stream",
     "text": [
      "100%|██████████| 984/984 [00:03<00:00, 282.35it/s]\n"
     ]
    },
    {
     "name": "stdout",
     "output_type": "stream",
     "text": [
      "3539\n"
     ]
    },
    {
     "name": "stderr",
     "output_type": "stream",
     "text": [
      "100%|██████████| 784/784 [00:02<00:00, 311.15it/s]\n"
     ]
    },
    {
     "name": "stdout",
     "output_type": "stream",
     "text": [
      "4323\n"
     ]
    }
   ],
   "source": [
    "make_train_data('Daisy',FLOWER_DAISY_DIR)\n",
    "print(len(X))\n",
    "make_train_data('Sunflower',FLOWER_SUNFLOWER_DIR)\n",
    "print(len(X))\n",
    "make_train_data('Dandelion',FLOWER_DANDI_DIR)\n",
    "print(len(X))\n",
    "make_train_data('Tulip',FLOWER_TULIP_DIR)\n",
    "print(len(X))\n",
    "make_train_data('Rose',FLOWER_ROSE_DIR)\n",
    "print(len(X))"
   ]
  },
  {
   "cell_type": "code",
   "execution_count": 5,
   "metadata": {},
   "outputs": [],
   "source": [
    "#fig,ax = plt.subplots(5,2)\n",
    "#fig.set_size_inches(15,15)\n",
    "#for i in range(5):\n",
    "#    for j in range (2):\n",
    "#        l = rn.randint(0,len(Y))\n",
    "#        ax[i,j].imshow(X[l])\n",
    "#        ax[i,j].set_title('Flower: '+Y[l])\n",
    "#        \n",
    "#plt.tight_layout()\n",
    "\n",
    "le=LabelEncoder()\n",
    "Y=le.fit_transform(Y)\n",
    "Y=to_categorical(Y,5)\n",
    "X = np.array(X)\n",
    "X = X/255\n",
    "\n",
    "x_train,x_test,y_train,y_test=train_test_split(X,Y,test_size=0.2,random_state=42)\n",
    "np.random.seed(42)\n",
    "rn.seed(42)\n",
    "tf.set_random_seed(42)"
   ]
  },
  {
   "cell_type": "code",
   "execution_count": 6,
   "metadata": {},
   "outputs": [
    {
     "name": "stdout",
     "output_type": "stream",
     "text": [
      "WARNING:tensorflow:From C:\\Users\\user\\Anaconda3\\envs\\py37\\lib\\site-packages\\tensorflow\\python\\framework\\op_def_library.py:263: colocate_with (from tensorflow.python.framework.ops) is deprecated and will be removed in a future version.\n",
      "Instructions for updating:\n",
      "Colocations handled automatically by placer.\n"
     ]
    }
   ],
   "source": [
    "batch_size=16\n",
    "epochs=14\n",
    "base_model=VGG16(include_top=False, weights='imagenet',input_shape=(IMG_SIZE,IMG_SIZE,3), pooling='max')\n",
    "#base_model.load_weights(weights_path)\n",
    "\n",
    "model=Sequential()\n",
    "model.add(base_model)\n",
    "model.add(Dense(512,activation='relu'))\n",
    "model.add(Dense(5,activation='softmax'))"
   ]
  },
  {
   "cell_type": "code",
   "execution_count": 7,
   "metadata": {},
   "outputs": [],
   "source": [
    "datagen = ImageDataGenerator(\n",
    "        featurewise_center=False,  # set input mean to 0 over the dataset\n",
    "        samplewise_center=False,  # set each sample mean to 0\n",
    "        featurewise_std_normalization=False,  # divide inputs by std of the dataset\n",
    "        samplewise_std_normalization=False,  # divide each input by its std\n",
    "        zca_whitening=False,  # apply ZCA whitening\n",
    "        rotation_range=10,  # randomly rotate images in the range (degrees, 0 to 180)\n",
    "        zoom_range = 0.1, # Randomly zoom image \n",
    "        width_shift_range=0.2,  # randomly shift images horizontally (fraction of total width)\n",
    "        height_shift_range=0.2,  # randomly shift images vertically (fraction of total height)\n",
    "        horizontal_flip=True,  # randomly flip images\n",
    "        vertical_flip=False)  # randomly flip images\n",
    "datagen.fit(x_train)"
   ]
  },
  {
   "cell_type": "code",
   "execution_count": 8,
   "metadata": {},
   "outputs": [
    {
     "name": "stdout",
     "output_type": "stream",
     "text": [
      "0 <keras.engine.input_layer.InputLayer object at 0x000001C90A876A58>\n",
      "1 <keras.layers.convolutional.Conv2D object at 0x000001C90A8EC048>\n",
      "2 <keras.layers.convolutional.Conv2D object at 0x000001C90A8EC1D0>\n",
      "3 <keras.layers.pooling.MaxPooling2D object at 0x000001C915704048>\n",
      "4 <keras.layers.convolutional.Conv2D object at 0x000001C915704898>\n",
      "5 <keras.layers.convolutional.Conv2D object at 0x000001C95CB28400>\n",
      "6 <keras.layers.pooling.MaxPooling2D object at 0x000001C95CB44A90>\n",
      "7 <keras.layers.convolutional.Conv2D object at 0x000001C95CB44470>\n",
      "8 <keras.layers.convolutional.Conv2D object at 0x000001C95CB74710>\n",
      "9 <keras.layers.convolutional.Conv2D object at 0x000001C95CB8E780>\n",
      "10 <keras.layers.pooling.MaxPooling2D object at 0x000001C95CBC5588>\n",
      "11 <keras.layers.convolutional.Conv2D object at 0x000001C95CBC5550>\n",
      "12 <keras.layers.convolutional.Conv2D object at 0x000001C95CBFD240>\n",
      "13 <keras.layers.convolutional.Conv2D object at 0x000001C95CC19828>\n",
      "14 <keras.layers.pooling.MaxPooling2D object at 0x000001C95CC33080>\n",
      "15 <keras.layers.convolutional.Conv2D object at 0x000001C95CC33C18>\n",
      "16 <keras.layers.convolutional.Conv2D object at 0x000001C95CC6DB38>\n",
      "17 <keras.layers.convolutional.Conv2D object at 0x000001C95CC5FC50>\n",
      "18 <keras.layers.pooling.MaxPooling2D object at 0x000001C95CCBF9B0>\n",
      "19 <keras.layers.pooling.GlobalMaxPooling2D object at 0x000001C95CCBFB00>\n",
      "_________________________________________________________________\n",
      "Layer (type)                 Output Shape              Param #   \n",
      "=================================================================\n",
      "input_1 (InputLayer)         (None, 200, 200, 3)       0         \n",
      "_________________________________________________________________\n",
      "block1_conv1 (Conv2D)        (None, 200, 200, 64)      1792      \n",
      "_________________________________________________________________\n",
      "block1_conv2 (Conv2D)        (None, 200, 200, 64)      36928     \n",
      "_________________________________________________________________\n",
      "block1_pool (MaxPooling2D)   (None, 100, 100, 64)      0         \n",
      "_________________________________________________________________\n",
      "block2_conv1 (Conv2D)        (None, 100, 100, 128)     73856     \n",
      "_________________________________________________________________\n",
      "block2_conv2 (Conv2D)        (None, 100, 100, 128)     147584    \n",
      "_________________________________________________________________\n",
      "block2_pool (MaxPooling2D)   (None, 50, 50, 128)       0         \n",
      "_________________________________________________________________\n",
      "block3_conv1 (Conv2D)        (None, 50, 50, 256)       295168    \n",
      "_________________________________________________________________\n",
      "block3_conv2 (Conv2D)        (None, 50, 50, 256)       590080    \n",
      "_________________________________________________________________\n",
      "block3_conv3 (Conv2D)        (None, 50, 50, 256)       590080    \n",
      "_________________________________________________________________\n",
      "block3_pool (MaxPooling2D)   (None, 25, 25, 256)       0         \n",
      "_________________________________________________________________\n",
      "block4_conv1 (Conv2D)        (None, 25, 25, 512)       1180160   \n",
      "_________________________________________________________________\n",
      "block4_conv2 (Conv2D)        (None, 25, 25, 512)       2359808   \n",
      "_________________________________________________________________\n",
      "block4_conv3 (Conv2D)        (None, 25, 25, 512)       2359808   \n",
      "_________________________________________________________________\n",
      "block4_pool (MaxPooling2D)   (None, 12, 12, 512)       0         \n",
      "_________________________________________________________________\n",
      "block5_conv1 (Conv2D)        (None, 12, 12, 512)       2359808   \n",
      "_________________________________________________________________\n",
      "block5_conv2 (Conv2D)        (None, 12, 12, 512)       2359808   \n",
      "_________________________________________________________________\n",
      "block5_conv3 (Conv2D)        (None, 12, 12, 512)       2359808   \n",
      "_________________________________________________________________\n",
      "block5_pool (MaxPooling2D)   (None, 6, 6, 512)         0         \n",
      "_________________________________________________________________\n",
      "global_max_pooling2d_1 (Glob (None, 512)               0         \n",
      "=================================================================\n",
      "Total params: 14,714,688\n",
      "Trainable params: 12,979,200\n",
      "Non-trainable params: 1,735,488\n",
      "_________________________________________________________________\n"
     ]
    }
   ],
   "source": [
    "for i in range (len(base_model.layers)):\n",
    "    print (i,base_model.layers[i])\n",
    "\n",
    "for layer in base_model.layers[11:]:\n",
    "    layer.trainable=True\n",
    "for layer in base_model.layers[0:11]:\n",
    "    layer.trainable=False\n",
    "base_model.summary()"
   ]
  },
  {
   "cell_type": "code",
   "execution_count": null,
   "metadata": {},
   "outputs": [
    {
     "name": "stdout",
     "output_type": "stream",
     "text": [
      "_________________________________________________________________\n",
      "Layer (type)                 Output Shape              Param #   \n",
      "=================================================================\n",
      "vgg16 (Model)                (None, 512)               14714688  \n",
      "_________________________________________________________________\n",
      "dense_1 (Dense)              (None, 512)               262656    \n",
      "_________________________________________________________________\n",
      "dense_2 (Dense)              (None, 5)                 2565      \n",
      "=================================================================\n",
      "Total params: 14,979,909\n",
      "Trainable params: 13,244,421\n",
      "Non-trainable params: 1,735,488\n",
      "_________________________________________________________________\n",
      "WARNING:tensorflow:From C:\\Users\\user\\Anaconda3\\envs\\py37\\lib\\site-packages\\tensorflow\\python\\ops\\math_ops.py:3066: to_int32 (from tensorflow.python.ops.math_ops) is deprecated and will be removed in a future version.\n",
      "Instructions for updating:\n",
      "Use tf.cast instead.\n",
      "WARNING:tensorflow:From C:\\Users\\user\\Anaconda3\\envs\\py37\\lib\\site-packages\\tensorflow\\python\\ops\\math_grad.py:102: div (from tensorflow.python.ops.math_ops) is deprecated and will be removed in a future version.\n",
      "Instructions for updating:\n",
      "Deprecated in favor of operator or tf.math.divide.\n",
      "Epoch 1/14\n"
     ]
    },
    {
     "name": "stdout",
     "output_type": "stream",
     "text": [
      "207/216 [===========================>..] - ETA: 1:12:46 - loss: 2.0955 - acc: 0.06 - ETA: 37:40 - loss: 1.8150 - acc: 0.2188 - ETA: 25:57 - loss: 1.7564 - acc: 0.22 - ETA: 20:06 - loss: 1.6880 - acc: 0.25 - ETA: 16:36 - loss: 1.6711 - acc: 0.30 - ETA: 14:15 - loss: 1.6802 - acc: 0.28 - ETA: 12:34 - loss: 1.6319 - acc: 0.28 - ETA: 11:17 - loss: 1.6376 - acc: 0.28 - ETA: 10:18 - loss: 1.6294 - acc: 0.27 - ETA: 9:30 - loss: 1.6010 - acc: 0.3000 - ETA: 8:51 - loss: 1.5825 - acc: 0.306 - ETA: 8:18 - loss: 1.5663 - acc: 0.328 - ETA: 7:50 - loss: 1.5416 - acc: 0.351 - ETA: 7:26 - loss: 1.5223 - acc: 0.375 - ETA: 7:05 - loss: 1.5058 - acc: 0.387 - ETA: 6:47 - loss: 1.4744 - acc: 0.410 - ETA: 6:31 - loss: 1.4652 - acc: 0.408 - ETA: 6:16 - loss: 1.4376 - acc: 0.430 - ETA: 6:03 - loss: 1.4265 - acc: 0.427 - ETA: 5:51 - loss: 1.4007 - acc: 0.440 - ETA: 5:40 - loss: 1.3905 - acc: 0.449 - ETA: 5:30 - loss: 1.3691 - acc: 0.460 - ETA: 5:21 - loss: 1.3501 - acc: 0.470 - ETA: 5:13 - loss: 1.3331 - acc: 0.484 - ETA: 5:05 - loss: 1.3190 - acc: 0.487 - ETA: 4:57 - loss: 1.2914 - acc: 0.502 - ETA: 4:51 - loss: 1.2703 - acc: 0.509 - ETA: 4:44 - loss: 1.2542 - acc: 0.517 - ETA: 4:38 - loss: 1.2347 - acc: 0.528 - ETA: 4:33 - loss: 1.2187 - acc: 0.537 - ETA: 4:27 - loss: 1.1983 - acc: 0.546 - ETA: 4:22 - loss: 1.1856 - acc: 0.546 - ETA: 4:17 - loss: 1.1692 - acc: 0.553 - ETA: 4:13 - loss: 1.1558 - acc: 0.551 - ETA: 4:08 - loss: 1.1506 - acc: 0.551 - ETA: 4:04 - loss: 1.1308 - acc: 0.559 - ETA: 4:00 - loss: 1.1239 - acc: 0.560 - ETA: 3:56 - loss: 1.1121 - acc: 0.565 - ETA: 3:53 - loss: 1.1005 - acc: 0.565 - ETA: 3:49 - loss: 1.0905 - acc: 0.568 - ETA: 3:46 - loss: 1.0844 - acc: 0.573 - ETA: 3:43 - loss: 1.0802 - acc: 0.574 - ETA: 3:40 - loss: 1.0735 - acc: 0.577 - ETA: 3:36 - loss: 1.0601 - acc: 0.583 - ETA: 3:34 - loss: 1.0526 - acc: 0.587 - ETA: 3:31 - loss: 1.0412 - acc: 0.592 - ETA: 3:28 - loss: 1.0342 - acc: 0.595 - ETA: 3:25 - loss: 1.0354 - acc: 0.596 - ETA: 3:23 - loss: 1.0298 - acc: 0.599 - ETA: 3:20 - loss: 1.0315 - acc: 0.596 - ETA: 3:18 - loss: 1.0220 - acc: 0.599 - ETA: 3:15 - loss: 1.0147 - acc: 0.604 - ETA: 3:13 - loss: 1.0072 - acc: 0.607 - ETA: 3:11 - loss: 1.0039 - acc: 0.608 - ETA: 3:08 - loss: 1.0039 - acc: 0.606 - ETA: 3:06 - loss: 1.0000 - acc: 0.610 - ETA: 3:04 - loss: 0.9916 - acc: 0.614 - ETA: 3:02 - loss: 0.9890 - acc: 0.615 - ETA: 3:00 - loss: 0.9814 - acc: 0.618 - ETA: 2:58 - loss: 0.9771 - acc: 0.618 - ETA: 2:56 - loss: 0.9728 - acc: 0.619 - ETA: 2:54 - loss: 0.9644 - acc: 0.623 - ETA: 2:52 - loss: 0.9608 - acc: 0.626 - ETA: 2:50 - loss: 0.9576 - acc: 0.627 - ETA: 2:49 - loss: 0.9553 - acc: 0.628 - ETA: 2:47 - loss: 0.9532 - acc: 0.628 - ETA: 2:45 - loss: 0.9531 - acc: 0.629 - ETA: 2:43 - loss: 0.9528 - acc: 0.628 - ETA: 2:41 - loss: 0.9491 - acc: 0.630 - ETA: 2:40 - loss: 0.9441 - acc: 0.632 - ETA: 2:38 - loss: 0.9409 - acc: 0.632 - ETA: 2:36 - loss: 0.9353 - acc: 0.634 - ETA: 2:35 - loss: 0.9296 - acc: 0.637 - ETA: 2:33 - loss: 0.9234 - acc: 0.640 - ETA: 2:32 - loss: 0.9181 - acc: 0.641 - ETA: 2:30 - loss: 0.9121 - acc: 0.643 - ETA: 2:29 - loss: 0.9119 - acc: 0.645 - ETA: 2:27 - loss: 0.9105 - acc: 0.646 - ETA: 2:26 - loss: 0.9044 - acc: 0.648 - ETA: 2:24 - loss: 0.8970 - acc: 0.651 - ETA: 2:23 - loss: 0.8916 - acc: 0.653 - ETA: 2:21 - loss: 0.8915 - acc: 0.654 - ETA: 2:20 - loss: 0.8887 - acc: 0.657 - ETA: 2:18 - loss: 0.8829 - acc: 0.660 - ETA: 2:17 - loss: 0.8787 - acc: 0.661 - ETA: 2:15 - loss: 0.8788 - acc: 0.661 - ETA: 2:14 - loss: 0.8719 - acc: 0.663 - ETA: 2:13 - loss: 0.8732 - acc: 0.662 - ETA: 2:11 - loss: 0.8696 - acc: 0.664 - ETA: 2:10 - loss: 0.8679 - acc: 0.663 - ETA: 2:09 - loss: 0.8663 - acc: 0.662 - ETA: 2:07 - loss: 0.8634 - acc: 0.664 - ETA: 2:06 - loss: 0.8606 - acc: 0.665 - ETA: 2:05 - loss: 0.8572 - acc: 0.667 - ETA: 2:03 - loss: 0.8530 - acc: 0.669 - ETA: 2:02 - loss: 0.8458 - acc: 0.672 - ETA: 2:01 - loss: 0.8451 - acc: 0.672 - ETA: 2:00 - loss: 0.8426 - acc: 0.672 - ETA: 1:58 - loss: 0.8433 - acc: 0.673 - ETA: 1:57 - loss: 0.8392 - acc: 0.673 - ETA: 1:56 - loss: 0.8355 - acc: 0.675 - ETA: 1:55 - loss: 0.8312 - acc: 0.677 - ETA: 1:53 - loss: 0.8286 - acc: 0.677 - ETA: 1:52 - loss: 0.8296 - acc: 0.679 - ETA: 1:51 - loss: 0.8328 - acc: 0.676 - ETA: 1:50 - loss: 0.8330 - acc: 0.676 - ETA: 1:49 - loss: 0.8294 - acc: 0.677 - ETA: 1:47 - loss: 0.8256 - acc: 0.680 - ETA: 1:46 - loss: 0.8237 - acc: 0.680 - ETA: 1:45 - loss: 0.8216 - acc: 0.680 - ETA: 1:44 - loss: 0.8214 - acc: 0.681 - ETA: 1:43 - loss: 0.8175 - acc: 0.683 - ETA: 1:42 - loss: 0.8180 - acc: 0.682 - ETA: 1:41 - loss: 0.8154 - acc: 0.683 - ETA: 1:39 - loss: 0.8177 - acc: 0.683 - ETA: 1:38 - loss: 0.8138 - acc: 0.685 - ETA: 1:37 - loss: 0.8099 - acc: 0.688 - ETA: 1:36 - loss: 0.8069 - acc: 0.689 - ETA: 1:35 - loss: 0.8050 - acc: 0.690 - ETA: 1:34 - loss: 0.8046 - acc: 0.691 - ETA: 1:33 - loss: 0.8046 - acc: 0.691 - ETA: 1:32 - loss: 0.8029 - acc: 0.691 - ETA: 1:31 - loss: 0.8015 - acc: 0.691 - ETA: 1:29 - loss: 0.7974 - acc: 0.692 - ETA: 1:28 - loss: 0.7988 - acc: 0.692 - ETA: 1:27 - loss: 0.7970 - acc: 0.692 - ETA: 1:26 - loss: 0.7946 - acc: 0.692 - ETA: 1:25 - loss: 0.7911 - acc: 0.694 - ETA: 1:24 - loss: 0.7874 - acc: 0.696 - ETA: 1:23 - loss: 0.7863 - acc: 0.696 - ETA: 1:22 - loss: 0.7855 - acc: 0.696 - ETA: 1:21 - loss: 0.7856 - acc: 0.697 - ETA: 1:20 - loss: 0.7825 - acc: 0.698 - ETA: 1:19 - loss: 0.7794 - acc: 0.700 - ETA: 1:18 - loss: 0.7765 - acc: 0.700 - ETA: 1:17 - loss: 0.7718 - acc: 0.703 - ETA: 1:16 - loss: 0.7768 - acc: 0.701 - ETA: 1:15 - loss: 0.7773 - acc: 0.701 - ETA: 1:14 - loss: 0.7755 - acc: 0.702 - ETA: 1:13 - loss: 0.7725 - acc: 0.704 - ETA: 1:12 - loss: 0.7717 - acc: 0.704 - ETA: 1:10 - loss: 0.7719 - acc: 0.704 - ETA: 1:09 - loss: 0.7708 - acc: 0.704 - ETA: 1:08 - loss: 0.7684 - acc: 0.706 - ETA: 1:07 - loss: 0.7673 - acc: 0.706 - ETA: 1:06 - loss: 0.7671 - acc: 0.706 - ETA: 1:05 - loss: 0.7663 - acc: 0.706 - ETA: 1:04 - loss: 0.7634 - acc: 0.707 - ETA: 1:03 - loss: 0.7615 - acc: 0.708 - ETA: 1:02 - loss: 0.7591 - acc: 0.709 - ETA: 1:01 - loss: 0.7575 - acc: 0.710 - ETA: 1:00 - loss: 0.7561 - acc: 0.711 - ETA: 59s - loss: 0.7528 - acc: 0.712 - ETA: 58s - loss: 0.7502 - acc: 0.71 - ETA: 57s - loss: 0.7472 - acc: 0.71 - ETA: 56s - loss: 0.7461 - acc: 0.71 - ETA: 55s - loss: 0.7433 - acc: 0.71 - ETA: 54s - loss: 0.7402 - acc: 0.71 - ETA: 53s - loss: 0.7383 - acc: 0.71 - ETA: 52s - loss: 0.7372 - acc: 0.71 - ETA: 51s - loss: 0.7340 - acc: 0.72 - ETA: 50s - loss: 0.7363 - acc: 0.71 - ETA: 49s - loss: 0.7354 - acc: 0.72 - ETA: 48s - loss: 0.7320 - acc: 0.72 - ETA: 48s - loss: 0.7299 - acc: 0.72 - ETA: 47s - loss: 0.7271 - acc: 0.72 - ETA: 46s - loss: 0.7266 - acc: 0.72 - ETA: 45s - loss: 0.7252 - acc: 0.72 - ETA: 44s - loss: 0.7239 - acc: 0.72 - ETA: 43s - loss: 0.7230 - acc: 0.72 - ETA: 42s - loss: 0.7212 - acc: 0.72 - ETA: 41s - loss: 0.7186 - acc: 0.72 - ETA: 40s - loss: 0.7171 - acc: 0.72 - ETA: 39s - loss: 0.7146 - acc: 0.72 - ETA: 38s - loss: 0.7140 - acc: 0.72 - ETA: 37s - loss: 0.7125 - acc: 0.72 - ETA: 36s - loss: 0.7097 - acc: 0.73 - ETA: 35s - loss: 0.7075 - acc: 0.73 - ETA: 34s - loss: 0.7080 - acc: 0.73 - ETA: 33s - loss: 0.7068 - acc: 0.73 - ETA: 32s - loss: 0.7039 - acc: 0.73 - ETA: 31s - loss: 0.7023 - acc: 0.73 - ETA: 30s - loss: 0.7006 - acc: 0.73 - ETA: 29s - loss: 0.7003 - acc: 0.73 - ETA: 28s - loss: 0.6977 - acc: 0.73 - ETA: 27s - loss: 0.6962 - acc: 0.73 - ETA: 26s - loss: 0.6955 - acc: 0.73 - ETA: 25s - loss: 0.6944 - acc: 0.73 - ETA: 25s - loss: 0.6939 - acc: 0.73 - ETA: 24s - loss: 0.6911 - acc: 0.73 - ETA: 23s - loss: 0.6928 - acc: 0.73 - ETA: 22s - loss: 0.6925 - acc: 0.73 - ETA: 21s - loss: 0.6920 - acc: 0.73 - ETA: 20s - loss: 0.6951 - acc: 0.73 - ETA: 19s - loss: 0.6930 - acc: 0.73 - ETA: 18s - loss: 0.6912 - acc: 0.73 - ETA: 17s - loss: 0.6908 - acc: 0.73 - ETA: 16s - loss: 0.6891 - acc: 0.73 - ETA: 15s - loss: 0.6865 - acc: 0.74 - ETA: 14s - loss: 0.6848 - acc: 0.74 - ETA: 13s - loss: 0.6847 - acc: 0.74 - ETA: 12s - loss: 0.6848 - acc: 0.74 - ETA: 11s - loss: 0.6833 - acc: 0.74 - ETA: 11s - loss: 0.6825 - acc: 0.74 - ETA: 10s - loss: 0.6812 - acc: 0.74 - ETA: 9s - loss: 0.6796 - acc: 0.7418 - ETA: 8s - loss: 0.6783 - acc: 0.7418216/216 [==============================] - ETA: 7s - loss: 0.6770 - acc: 0.742 - ETA: 6s - loss: 0.6762 - acc: 0.742 - ETA: 5s - loss: 0.6741 - acc: 0.743 - ETA: 4s - loss: 0.6739 - acc: 0.744 - ETA: 3s - loss: 0.6724 - acc: 0.744 - ETA: 2s - loss: 0.6714 - acc: 0.745 - ETA: 1s - loss: 0.6698 - acc: 0.745 - ETA: 0s - loss: 0.6697 - acc: 0.745 - 256s 1s/step - loss: 0.6697 - acc: 0.7457 - val_loss: 0.4313 - val_acc: 0.8358\n",
      "Epoch 2/14\n"
     ]
    },
    {
     "name": "stdout",
     "output_type": "stream",
     "text": [
      "207/216 [===========================>..] - ETA: 8:23 - loss: 0.0754 - acc: 1.000 - ETA: 5:38 - loss: 0.3341 - acc: 0.906 - ETA: 4:42 - loss: 0.3551 - acc: 0.895 - ETA: 4:15 - loss: 0.4384 - acc: 0.859 - ETA: 3:57 - loss: 0.4560 - acc: 0.850 - ETA: 3:46 - loss: 0.4226 - acc: 0.854 - ETA: 3:37 - loss: 0.4083 - acc: 0.866 - ETA: 3:31 - loss: 0.4102 - acc: 0.859 - ETA: 3:25 - loss: 0.3958 - acc: 0.861 - ETA: 3:21 - loss: 0.3935 - acc: 0.862 - ETA: 3:19 - loss: 0.3769 - acc: 0.869 - ETA: 3:16 - loss: 0.4001 - acc: 0.864 - ETA: 3:13 - loss: 0.4117 - acc: 0.855 - ETA: 3:10 - loss: 0.4271 - acc: 0.852 - ETA: 3:07 - loss: 0.4136 - acc: 0.850 - ETA: 3:05 - loss: 0.4310 - acc: 0.835 - ETA: 3:03 - loss: 0.4195 - acc: 0.841 - ETA: 3:01 - loss: 0.4247 - acc: 0.840 - ETA: 2:59 - loss: 0.4273 - acc: 0.835 - ETA: 2:58 - loss: 0.4169 - acc: 0.840 - ETA: 2:56 - loss: 0.4118 - acc: 0.839 - ETA: 2:55 - loss: 0.3966 - acc: 0.846 - ETA: 2:53 - loss: 0.4020 - acc: 0.847 - ETA: 2:52 - loss: 0.4030 - acc: 0.846 - ETA: 2:50 - loss: 0.4110 - acc: 0.847 - ETA: 2:49 - loss: 0.4279 - acc: 0.846 - ETA: 2:47 - loss: 0.4232 - acc: 0.847 - ETA: 2:46 - loss: 0.4148 - acc: 0.848 - ETA: 2:45 - loss: 0.4175 - acc: 0.847 - ETA: 2:44 - loss: 0.4214 - acc: 0.843 - ETA: 2:43 - loss: 0.4260 - acc: 0.842 - ETA: 2:42 - loss: 0.4268 - acc: 0.839 - ETA: 2:40 - loss: 0.4239 - acc: 0.839 - ETA: 2:39 - loss: 0.4197 - acc: 0.840 - ETA: 2:38 - loss: 0.4215 - acc: 0.841 - ETA: 2:37 - loss: 0.4181 - acc: 0.842 - ETA: 2:36 - loss: 0.4161 - acc: 0.842 - ETA: 2:35 - loss: 0.4148 - acc: 0.843 - ETA: 2:34 - loss: 0.4142 - acc: 0.844 - ETA: 2:33 - loss: 0.4077 - acc: 0.846 - ETA: 2:32 - loss: 0.4095 - acc: 0.846 - ETA: 2:31 - loss: 0.4058 - acc: 0.846 - ETA: 2:30 - loss: 0.4089 - acc: 0.845 - ETA: 2:29 - loss: 0.4040 - acc: 0.848 - ETA: 2:28 - loss: 0.3983 - acc: 0.850 - ETA: 2:27 - loss: 0.3989 - acc: 0.847 - ETA: 2:26 - loss: 0.3982 - acc: 0.847 - ETA: 2:25 - loss: 0.3957 - acc: 0.850 - ETA: 2:24 - loss: 0.3930 - acc: 0.852 - ETA: 2:23 - loss: 0.3890 - acc: 0.853 - ETA: 2:22 - loss: 0.3873 - acc: 0.854 - ETA: 2:21 - loss: 0.3868 - acc: 0.853 - ETA: 2:20 - loss: 0.3869 - acc: 0.855 - ETA: 2:19 - loss: 0.3911 - acc: 0.853 - ETA: 2:18 - loss: 0.3964 - acc: 0.852 - ETA: 2:17 - loss: 0.4035 - acc: 0.851 - ETA: 2:16 - loss: 0.4013 - acc: 0.852 - ETA: 2:15 - loss: 0.4007 - acc: 0.853 - ETA: 2:15 - loss: 0.4033 - acc: 0.852 - ETA: 2:14 - loss: 0.4069 - acc: 0.853 - ETA: 2:13 - loss: 0.4048 - acc: 0.854 - ETA: 2:12 - loss: 0.4013 - acc: 0.854 - ETA: 2:11 - loss: 0.3990 - acc: 0.855 - ETA: 2:10 - loss: 0.3955 - acc: 0.857 - ETA: 2:09 - loss: 0.3985 - acc: 0.856 - ETA: 2:08 - loss: 0.3952 - acc: 0.858 - ETA: 2:07 - loss: 0.3927 - acc: 0.859 - ETA: 2:06 - loss: 0.3941 - acc: 0.859 - ETA: 2:05 - loss: 0.3895 - acc: 0.861 - ETA: 2:05 - loss: 0.3868 - acc: 0.863 - ETA: 2:04 - loss: 0.3851 - acc: 0.864 - ETA: 2:03 - loss: 0.3854 - acc: 0.864 - ETA: 2:02 - loss: 0.3859 - acc: 0.863 - ETA: 2:01 - loss: 0.3869 - acc: 0.864 - ETA: 2:00 - loss: 0.3858 - acc: 0.864 - ETA: 1:59 - loss: 0.3818 - acc: 0.866 - ETA: 1:58 - loss: 0.3792 - acc: 0.866 - ETA: 1:58 - loss: 0.3752 - acc: 0.868 - ETA: 1:57 - loss: 0.3750 - acc: 0.868 - ETA: 1:56 - loss: 0.3724 - acc: 0.868 - ETA: 1:55 - loss: 0.3723 - acc: 0.868 - ETA: 1:54 - loss: 0.3718 - acc: 0.868 - ETA: 1:53 - loss: 0.3681 - acc: 0.869 - ETA: 1:52 - loss: 0.3672 - acc: 0.870 - ETA: 1:51 - loss: 0.3697 - acc: 0.869 - ETA: 1:51 - loss: 0.3685 - acc: 0.869 - ETA: 1:50 - loss: 0.3753 - acc: 0.868 - ETA: 1:49 - loss: 0.3750 - acc: 0.867 - ETA: 1:48 - loss: 0.3724 - acc: 0.868 - ETA: 1:47 - loss: 0.3702 - acc: 0.869 - ETA: 1:46 - loss: 0.3677 - acc: 0.870 - ETA: 1:45 - loss: 0.3671 - acc: 0.869 - ETA: 1:45 - loss: 0.3685 - acc: 0.868 - ETA: 1:44 - loss: 0.3679 - acc: 0.867 - ETA: 1:43 - loss: 0.3661 - acc: 0.868 - ETA: 1:42 - loss: 0.3677 - acc: 0.868 - ETA: 1:41 - loss: 0.3668 - acc: 0.868 - ETA: 1:40 - loss: 0.3661 - acc: 0.868 - ETA: 1:39 - loss: 0.3659 - acc: 0.868 - ETA: 1:39 - loss: 0.3632 - acc: 0.870 - ETA: 1:38 - loss: 0.3635 - acc: 0.868 - ETA: 1:37 - loss: 0.3638 - acc: 0.868 - ETA: 1:36 - loss: 0.3634 - acc: 0.868 - ETA: 1:35 - loss: 0.3704 - acc: 0.866 - ETA: 1:34 - loss: 0.3697 - acc: 0.866 - ETA: 1:33 - loss: 0.3679 - acc: 0.867 - ETA: 1:33 - loss: 0.3703 - acc: 0.865 - ETA: 1:32 - loss: 0.3679 - acc: 0.866 - ETA: 1:31 - loss: 0.3680 - acc: 0.866 - ETA: 1:30 - loss: 0.3671 - acc: 0.867 - ETA: 1:29 - loss: 0.3671 - acc: 0.867 - ETA: 1:28 - loss: 0.3697 - acc: 0.866 - ETA: 1:27 - loss: 0.3684 - acc: 0.866 - ETA: 1:27 - loss: 0.3712 - acc: 0.865 - ETA: 1:26 - loss: 0.3724 - acc: 0.864 - ETA: 1:25 - loss: 0.3721 - acc: 0.864 - ETA: 1:24 - loss: 0.3744 - acc: 0.863 - ETA: 1:23 - loss: 0.3758 - acc: 0.862 - ETA: 1:22 - loss: 0.3744 - acc: 0.862 - ETA: 1:21 - loss: 0.3749 - acc: 0.862 - ETA: 1:21 - loss: 0.3797 - acc: 0.860 - ETA: 1:20 - loss: 0.3785 - acc: 0.860 - ETA: 1:19 - loss: 0.3779 - acc: 0.861 - ETA: 1:18 - loss: 0.3783 - acc: 0.860 - ETA: 1:17 - loss: 0.3786 - acc: 0.861 - ETA: 1:16 - loss: 0.3787 - acc: 0.861 - ETA: 1:15 - loss: 0.3814 - acc: 0.860 - ETA: 1:15 - loss: 0.3811 - acc: 0.860 - ETA: 1:14 - loss: 0.3813 - acc: 0.860 - ETA: 1:13 - loss: 0.3796 - acc: 0.860 - ETA: 1:12 - loss: 0.3783 - acc: 0.860 - ETA: 1:11 - loss: 0.3784 - acc: 0.860 - ETA: 1:10 - loss: 0.3782 - acc: 0.860 - ETA: 1:09 - loss: 0.3785 - acc: 0.860 - ETA: 1:09 - loss: 0.3786 - acc: 0.859 - ETA: 1:08 - loss: 0.3778 - acc: 0.859 - ETA: 1:07 - loss: 0.3769 - acc: 0.859 - ETA: 1:06 - loss: 0.3774 - acc: 0.859 - ETA: 1:05 - loss: 0.3755 - acc: 0.860 - ETA: 1:04 - loss: 0.3743 - acc: 0.860 - ETA: 1:03 - loss: 0.3762 - acc: 0.860 - ETA: 1:03 - loss: 0.3762 - acc: 0.860 - ETA: 1:02 - loss: 0.3760 - acc: 0.860 - ETA: 1:01 - loss: 0.3742 - acc: 0.861 - ETA: 1:00 - loss: 0.3752 - acc: 0.861 - ETA: 59s - loss: 0.3762 - acc: 0.860 - ETA: 58s - loss: 0.3751 - acc: 0.86 - ETA: 57s - loss: 0.3783 - acc: 0.86 - ETA: 57s - loss: 0.3798 - acc: 0.85 - ETA: 56s - loss: 0.3780 - acc: 0.86 - ETA: 55s - loss: 0.3777 - acc: 0.85 - ETA: 54s - loss: 0.3775 - acc: 0.86 - ETA: 53s - loss: 0.3768 - acc: 0.86 - ETA: 52s - loss: 0.3757 - acc: 0.86 - ETA: 51s - loss: 0.3754 - acc: 0.86 - ETA: 51s - loss: 0.3753 - acc: 0.86 - ETA: 50s - loss: 0.3748 - acc: 0.86 - ETA: 49s - loss: 0.3744 - acc: 0.86 - ETA: 48s - loss: 0.3744 - acc: 0.86 - ETA: 47s - loss: 0.3726 - acc: 0.86 - ETA: 46s - loss: 0.3741 - acc: 0.86 - ETA: 46s - loss: 0.3726 - acc: 0.86 - ETA: 45s - loss: 0.3707 - acc: 0.86 - ETA: 44s - loss: 0.3709 - acc: 0.86 - ETA: 43s - loss: 0.3717 - acc: 0.86 - ETA: 42s - loss: 0.3730 - acc: 0.86 - ETA: 41s - loss: 0.3728 - acc: 0.86 - ETA: 40s - loss: 0.3730 - acc: 0.86 - ETA: 40s - loss: 0.3736 - acc: 0.86 - ETA: 39s - loss: 0.3730 - acc: 0.86 - ETA: 38s - loss: 0.3712 - acc: 0.86 - ETA: 37s - loss: 0.3699 - acc: 0.86 - ETA: 36s - loss: 0.3688 - acc: 0.86 - ETA: 35s - loss: 0.3699 - acc: 0.86 - ETA: 34s - loss: 0.3683 - acc: 0.86 - ETA: 34s - loss: 0.3686 - acc: 0.86 - ETA: 33s - loss: 0.3679 - acc: 0.86 - ETA: 32s - loss: 0.3681 - acc: 0.86 - ETA: 31s - loss: 0.3693 - acc: 0.86 - ETA: 30s - loss: 0.3687 - acc: 0.86 - ETA: 29s - loss: 0.3688 - acc: 0.86 - ETA: 28s - loss: 0.3676 - acc: 0.86 - ETA: 28s - loss: 0.3679 - acc: 0.86 - ETA: 27s - loss: 0.3672 - acc: 0.86 - ETA: 26s - loss: 0.3665 - acc: 0.86 - ETA: 25s - loss: 0.3683 - acc: 0.86 - ETA: 24s - loss: 0.3668 - acc: 0.86 - ETA: 23s - loss: 0.3666 - acc: 0.86 - ETA: 23s - loss: 0.3663 - acc: 0.86 - ETA: 22s - loss: 0.3660 - acc: 0.86 - ETA: 21s - loss: 0.3652 - acc: 0.86 - ETA: 20s - loss: 0.3641 - acc: 0.86 - ETA: 19s - loss: 0.3637 - acc: 0.86 - ETA: 18s - loss: 0.3634 - acc: 0.86 - ETA: 17s - loss: 0.3637 - acc: 0.86 - ETA: 17s - loss: 0.3636 - acc: 0.86 - ETA: 16s - loss: 0.3627 - acc: 0.86 - ETA: 15s - loss: 0.3616 - acc: 0.86 - ETA: 14s - loss: 0.3630 - acc: 0.86 - ETA: 13s - loss: 0.3613 - acc: 0.86 - ETA: 12s - loss: 0.3618 - acc: 0.86 - ETA: 11s - loss: 0.3609 - acc: 0.86 - ETA: 11s - loss: 0.3606 - acc: 0.86 - ETA: 10s - loss: 0.3596 - acc: 0.86 - ETA: 9s - loss: 0.3590 - acc: 0.8683 - ETA: 8s - loss: 0.3585 - acc: 0.868 - ETA: 7s - loss: 0.3595 - acc: 0.8681"
     ]
    },
    {
     "name": "stdout",
     "output_type": "stream",
     "text": [
      "216/216 [==============================] - ETA: 6s - loss: 0.3601 - acc: 0.867 - ETA: 5s - loss: 0.3596 - acc: 0.867 - ETA: 5s - loss: 0.3583 - acc: 0.868 - ETA: 4s - loss: 0.3586 - acc: 0.867 - ETA: 3s - loss: 0.3578 - acc: 0.868 - ETA: 2s - loss: 0.3570 - acc: 0.868 - ETA: 1s - loss: 0.3576 - acc: 0.867 - ETA: 0s - loss: 0.3578 - acc: 0.867 - 212s 984ms/step - loss: 0.3566 - acc: 0.8683 - val_loss: 0.3798 - val_acc: 0.8728\n",
      "Epoch 3/14\n"
     ]
    },
    {
     "name": "stdout",
     "output_type": "stream",
     "text": [
      "207/216 [===========================>..] - ETA: 3:04 - loss: 0.3694 - acc: 0.750 - ETA: 2:04 - loss: 0.3151 - acc: 0.875 - ETA: 2:23 - loss: 0.3451 - acc: 0.854 - ETA: 2:32 - loss: 0.2974 - acc: 0.875 - ETA: 2:37 - loss: 0.3902 - acc: 0.862 - ETA: 2:40 - loss: 0.4408 - acc: 0.822 - ETA: 2:42 - loss: 0.3980 - acc: 0.848 - ETA: 2:43 - loss: 0.3699 - acc: 0.859 - ETA: 2:44 - loss: 0.3994 - acc: 0.854 - ETA: 2:44 - loss: 0.3897 - acc: 0.850 - ETA: 2:45 - loss: 0.3555 - acc: 0.863 - ETA: 2:45 - loss: 0.3518 - acc: 0.864 - ETA: 2:45 - loss: 0.3596 - acc: 0.860 - ETA: 2:44 - loss: 0.3652 - acc: 0.857 - ETA: 2:44 - loss: 0.3741 - acc: 0.854 - ETA: 2:44 - loss: 0.3883 - acc: 0.851 - ETA: 2:43 - loss: 0.3742 - acc: 0.856 - ETA: 2:43 - loss: 0.3602 - acc: 0.864 - ETA: 2:42 - loss: 0.3602 - acc: 0.865 - ETA: 2:42 - loss: 0.3718 - acc: 0.862 - ETA: 2:41 - loss: 0.4050 - acc: 0.854 - ETA: 2:41 - loss: 0.4029 - acc: 0.855 - ETA: 2:40 - loss: 0.3961 - acc: 0.856 - ETA: 2:39 - loss: 0.3982 - acc: 0.854 - ETA: 2:39 - loss: 0.3942 - acc: 0.857 - ETA: 2:38 - loss: 0.3853 - acc: 0.860 - ETA: 2:37 - loss: 0.3815 - acc: 0.861 - ETA: 2:37 - loss: 0.3762 - acc: 0.859 - ETA: 2:36 - loss: 0.3938 - acc: 0.851 - ETA: 2:35 - loss: 0.3950 - acc: 0.852 - ETA: 2:34 - loss: 0.3871 - acc: 0.854 - ETA: 2:34 - loss: 0.3839 - acc: 0.855 - ETA: 2:33 - loss: 0.3787 - acc: 0.858 - ETA: 2:32 - loss: 0.3726 - acc: 0.862 - ETA: 2:31 - loss: 0.3721 - acc: 0.862 - ETA: 2:31 - loss: 0.3808 - acc: 0.859 - ETA: 2:30 - loss: 0.3875 - acc: 0.856 - ETA: 2:29 - loss: 0.3837 - acc: 0.858 - ETA: 2:28 - loss: 0.3822 - acc: 0.859 - ETA: 2:28 - loss: 0.3854 - acc: 0.854 - ETA: 2:27 - loss: 0.3817 - acc: 0.856 - ETA: 2:26 - loss: 0.3814 - acc: 0.857 - ETA: 2:25 - loss: 0.3778 - acc: 0.857 - ETA: 2:25 - loss: 0.3742 - acc: 0.859 - ETA: 2:24 - loss: 0.3698 - acc: 0.862 - ETA: 2:23 - loss: 0.3675 - acc: 0.862 - ETA: 2:22 - loss: 0.3672 - acc: 0.863 - ETA: 2:22 - loss: 0.3610 - acc: 0.865 - ETA: 2:21 - loss: 0.3566 - acc: 0.868 - ETA: 2:20 - loss: 0.3539 - acc: 0.870 - ETA: 2:19 - loss: 0.3497 - acc: 0.871 - ETA: 2:18 - loss: 0.3499 - acc: 0.871 - ETA: 2:17 - loss: 0.3453 - acc: 0.872 - ETA: 2:17 - loss: 0.3419 - acc: 0.875 - ETA: 2:16 - loss: 0.3400 - acc: 0.876 - ETA: 2:15 - loss: 0.3358 - acc: 0.878 - ETA: 2:14 - loss: 0.3322 - acc: 0.879 - ETA: 2:13 - loss: 0.3302 - acc: 0.880 - ETA: 2:13 - loss: 0.3309 - acc: 0.880 - ETA: 2:12 - loss: 0.3264 - acc: 0.882 - ETA: 2:11 - loss: 0.3231 - acc: 0.883 - ETA: 2:10 - loss: 0.3218 - acc: 0.883 - ETA: 2:09 - loss: 0.3207 - acc: 0.882 - ETA: 2:09 - loss: 0.3174 - acc: 0.884 - ETA: 2:08 - loss: 0.3128 - acc: 0.886 - ETA: 2:07 - loss: 0.3099 - acc: 0.888 - ETA: 2:06 - loss: 0.3079 - acc: 0.889 - ETA: 2:05 - loss: 0.3060 - acc: 0.888 - ETA: 2:04 - loss: 0.3040 - acc: 0.888 - ETA: 2:04 - loss: 0.3065 - acc: 0.888 - ETA: 2:03 - loss: 0.3052 - acc: 0.888 - ETA: 2:02 - loss: 0.3025 - acc: 0.888 - ETA: 2:01 - loss: 0.3000 - acc: 0.889 - ETA: 2:00 - loss: 0.3001 - acc: 0.888 - ETA: 2:00 - loss: 0.2995 - acc: 0.888 - ETA: 1:59 - loss: 0.3011 - acc: 0.887 - ETA: 1:58 - loss: 0.2997 - acc: 0.888 - ETA: 1:57 - loss: 0.2984 - acc: 0.889 - ETA: 1:56 - loss: 0.3010 - acc: 0.888 - ETA: 1:55 - loss: 0.2983 - acc: 0.889 - ETA: 1:55 - loss: 0.3008 - acc: 0.888 - ETA: 1:54 - loss: 0.2986 - acc: 0.889 - ETA: 1:53 - loss: 0.2970 - acc: 0.889 - ETA: 1:52 - loss: 0.2958 - acc: 0.889 - ETA: 1:51 - loss: 0.2953 - acc: 0.889 - ETA: 1:50 - loss: 0.2950 - acc: 0.888 - ETA: 1:50 - loss: 0.2926 - acc: 0.890 - ETA: 1:49 - loss: 0.2923 - acc: 0.889 - ETA: 1:48 - loss: 0.2895 - acc: 0.891 - ETA: 1:47 - loss: 0.2885 - acc: 0.891 - ETA: 1:46 - loss: 0.2873 - acc: 0.891 - ETA: 1:45 - loss: 0.2883 - acc: 0.889 - ETA: 1:45 - loss: 0.2880 - acc: 0.889 - ETA: 1:44 - loss: 0.2872 - acc: 0.889 - ETA: 1:43 - loss: 0.2867 - acc: 0.890 - ETA: 1:42 - loss: 0.2884 - acc: 0.890 - ETA: 1:41 - loss: 0.2882 - acc: 0.889 - ETA: 1:40 - loss: 0.2875 - acc: 0.889 - ETA: 1:40 - loss: 0.2861 - acc: 0.890 - ETA: 1:39 - loss: 0.2873 - acc: 0.890 - ETA: 1:38 - loss: 0.2881 - acc: 0.889 - ETA: 1:37 - loss: 0.2886 - acc: 0.889 - ETA: 1:36 - loss: 0.2869 - acc: 0.890 - ETA: 1:35 - loss: 0.2919 - acc: 0.888 - ETA: 1:35 - loss: 0.2905 - acc: 0.889 - ETA: 1:34 - loss: 0.2923 - acc: 0.888 - ETA: 1:33 - loss: 0.2936 - acc: 0.886 - ETA: 1:32 - loss: 0.2942 - acc: 0.886 - ETA: 1:31 - loss: 0.2945 - acc: 0.886 - ETA: 1:30 - loss: 0.2939 - acc: 0.886 - ETA: 1:29 - loss: 0.2937 - acc: 0.886 - ETA: 1:29 - loss: 0.2925 - acc: 0.887 - ETA: 1:28 - loss: 0.2950 - acc: 0.887 - ETA: 1:27 - loss: 0.2948 - acc: 0.887 - ETA: 1:26 - loss: 0.2946 - acc: 0.887 - ETA: 1:25 - loss: 0.2943 - acc: 0.887 - ETA: 1:24 - loss: 0.2934 - acc: 0.888 - ETA: 1:23 - loss: 0.2922 - acc: 0.888 - ETA: 1:23 - loss: 0.2930 - acc: 0.888 - ETA: 1:22 - loss: 0.2931 - acc: 0.888 - ETA: 1:21 - loss: 0.2920 - acc: 0.889 - ETA: 1:20 - loss: 0.2952 - acc: 0.887 - ETA: 1:19 - loss: 0.2972 - acc: 0.886 - ETA: 1:18 - loss: 0.2963 - acc: 0.887 - ETA: 1:18 - loss: 0.2958 - acc: 0.887 - ETA: 1:17 - loss: 0.2943 - acc: 0.888 - ETA: 1:16 - loss: 0.2938 - acc: 0.888 - ETA: 1:15 - loss: 0.2936 - acc: 0.888 - ETA: 1:14 - loss: 0.2939 - acc: 0.888 - ETA: 1:13 - loss: 0.2935 - acc: 0.888 - ETA: 1:12 - loss: 0.2932 - acc: 0.888 - ETA: 1:12 - loss: 0.2939 - acc: 0.887 - ETA: 1:11 - loss: 0.2928 - acc: 0.888 - ETA: 1:10 - loss: 0.2938 - acc: 0.887 - ETA: 1:09 - loss: 0.2928 - acc: 0.887 - ETA: 1:08 - loss: 0.2918 - acc: 0.887 - ETA: 1:07 - loss: 0.2934 - acc: 0.888 - ETA: 1:06 - loss: 0.2944 - acc: 0.887 - ETA: 1:06 - loss: 0.2944 - acc: 0.887 - ETA: 1:05 - loss: 0.2929 - acc: 0.887 - ETA: 1:04 - loss: 0.2918 - acc: 0.888 - ETA: 1:03 - loss: 0.2902 - acc: 0.889 - ETA: 1:02 - loss: 0.2930 - acc: 0.888 - ETA: 1:01 - loss: 0.2944 - acc: 0.887 - ETA: 1:00 - loss: 0.2948 - acc: 0.887 - ETA: 1:00 - loss: 0.2955 - acc: 0.887 - ETA: 59s - loss: 0.2952 - acc: 0.887 - ETA: 58s - loss: 0.2939 - acc: 0.88 - ETA: 57s - loss: 0.2960 - acc: 0.88 - ETA: 56s - loss: 0.2980 - acc: 0.88 - ETA: 55s - loss: 0.2985 - acc: 0.88 - ETA: 54s - loss: 0.2987 - acc: 0.88 - ETA: 54s - loss: 0.2990 - acc: 0.88 - ETA: 53s - loss: 0.2990 - acc: 0.88 - ETA: 52s - loss: 0.3007 - acc: 0.88 - ETA: 51s - loss: 0.3041 - acc: 0.88 - ETA: 50s - loss: 0.3062 - acc: 0.88 - ETA: 49s - loss: 0.3059 - acc: 0.88 - ETA: 48s - loss: 0.3069 - acc: 0.88 - ETA: 48s - loss: 0.3069 - acc: 0.88 - ETA: 47s - loss: 0.3068 - acc: 0.88 - ETA: 46s - loss: 0.3057 - acc: 0.88 - ETA: 45s - loss: 0.3065 - acc: 0.88 - ETA: 44s - loss: 0.3057 - acc: 0.88 - ETA: 43s - loss: 0.3047 - acc: 0.88 - ETA: 42s - loss: 0.3051 - acc: 0.88 - ETA: 42s - loss: 0.3061 - acc: 0.88 - ETA: 41s - loss: 0.3070 - acc: 0.88 - ETA: 40s - loss: 0.3070 - acc: 0.88 - ETA: 39s - loss: 0.3068 - acc: 0.88 - ETA: 38s - loss: 0.3076 - acc: 0.88 - ETA: 37s - loss: 0.3074 - acc: 0.88 - ETA: 36s - loss: 0.3093 - acc: 0.88 - ETA: 36s - loss: 0.3079 - acc: 0.88 - ETA: 35s - loss: 0.3067 - acc: 0.88 - ETA: 34s - loss: 0.3070 - acc: 0.88 - ETA: 33s - loss: 0.3072 - acc: 0.88 - ETA: 32s - loss: 0.3067 - acc: 0.88 - ETA: 31s - loss: 0.3071 - acc: 0.88 - ETA: 30s - loss: 0.3067 - acc: 0.88 - ETA: 30s - loss: 0.3061 - acc: 0.88 - ETA: 29s - loss: 0.3050 - acc: 0.88 - ETA: 28s - loss: 0.3048 - acc: 0.88 - ETA: 27s - loss: 0.3032 - acc: 0.88 - ETA: 26s - loss: 0.3032 - acc: 0.88 - ETA: 25s - loss: 0.3026 - acc: 0.88 - ETA: 24s - loss: 0.3019 - acc: 0.88 - ETA: 24s - loss: 0.3009 - acc: 0.88 - ETA: 23s - loss: 0.3009 - acc: 0.88 - ETA: 22s - loss: 0.3001 - acc: 0.88 - ETA: 21s - loss: 0.3019 - acc: 0.88 - ETA: 20s - loss: 0.3014 - acc: 0.88 - ETA: 19s - loss: 0.3008 - acc: 0.88 - ETA: 18s - loss: 0.2999 - acc: 0.88 - ETA: 18s - loss: 0.2998 - acc: 0.88 - ETA: 17s - loss: 0.2984 - acc: 0.88 - ETA: 16s - loss: 0.2979 - acc: 0.88 - ETA: 15s - loss: 0.2976 - acc: 0.88 - ETA: 14s - loss: 0.2970 - acc: 0.88 - ETA: 13s - loss: 0.2961 - acc: 0.88 - ETA: 12s - loss: 0.2977 - acc: 0.88 - ETA: 12s - loss: 0.2978 - acc: 0.88 - ETA: 11s - loss: 0.2967 - acc: 0.88 - ETA: 10s - loss: 0.2964 - acc: 0.88 - ETA: 9s - loss: 0.2963 - acc: 0.8893 - ETA: 8s - loss: 0.2964 - acc: 0.889 - ETA: 7s - loss: 0.2956 - acc: 0.8901216/216 [==============================] - ETA: 6s - loss: 0.2950 - acc: 0.890 - ETA: 6s - loss: 0.2948 - acc: 0.890 - ETA: 5s - loss: 0.2957 - acc: 0.890 - ETA: 4s - loss: 0.2981 - acc: 0.889 - ETA: 3s - loss: 0.2983 - acc: 0.889 - ETA: 2s - loss: 0.2986 - acc: 0.889 - ETA: 1s - loss: 0.2986 - acc: 0.889 - ETA: 0s - loss: 0.2983 - acc: 0.889 - 215s 993ms/step - loss: 0.3000 - acc: 0.8886 - val_loss: 0.4360 - val_acc: 0.8590\n",
      "Epoch 4/14\n"
     ]
    },
    {
     "name": "stdout",
     "output_type": "stream",
     "text": [
      "207/216 [===========================>..] - ETA: 3:05 - loss: 0.3307 - acc: 0.875 - ETA: 3:04 - loss: 0.3129 - acc: 0.906 - ETA: 2:24 - loss: 0.2986 - acc: 0.937 - ETA: 2:33 - loss: 0.3552 - acc: 0.921 - ETA: 2:38 - loss: 0.4402 - acc: 0.875 - ETA: 2:41 - loss: 0.4256 - acc: 0.864 - ETA: 2:43 - loss: 0.4261 - acc: 0.866 - ETA: 2:45 - loss: 0.4272 - acc: 0.867 - ETA: 2:45 - loss: 0.4020 - acc: 0.881 - ETA: 2:46 - loss: 0.3893 - acc: 0.887 - ETA: 2:46 - loss: 0.3640 - acc: 0.897 - ETA: 2:46 - loss: 0.3614 - acc: 0.901 - ETA: 2:46 - loss: 0.3644 - acc: 0.903 - ETA: 2:46 - loss: 0.3578 - acc: 0.901 - ETA: 2:46 - loss: 0.3475 - acc: 0.908 - ETA: 2:45 - loss: 0.3718 - acc: 0.898 - ETA: 2:45 - loss: 0.3607 - acc: 0.900 - ETA: 2:44 - loss: 0.3604 - acc: 0.899 - ETA: 2:44 - loss: 0.3665 - acc: 0.894 - ETA: 2:43 - loss: 0.3551 - acc: 0.900 - ETA: 2:43 - loss: 0.3620 - acc: 0.892 - ETA: 2:42 - loss: 0.3591 - acc: 0.894 - ETA: 2:42 - loss: 0.3559 - acc: 0.894 - ETA: 2:41 - loss: 0.3552 - acc: 0.895 - ETA: 2:40 - loss: 0.3529 - acc: 0.895 - ETA: 2:40 - loss: 0.3509 - acc: 0.894 - ETA: 2:39 - loss: 0.3491 - acc: 0.895 - ETA: 2:38 - loss: 0.3446 - acc: 0.897 - ETA: 2:37 - loss: 0.3363 - acc: 0.900 - ETA: 2:37 - loss: 0.3427 - acc: 0.895 - ETA: 2:36 - loss: 0.3462 - acc: 0.889 - ETA: 2:35 - loss: 0.3438 - acc: 0.888 - ETA: 2:35 - loss: 0.3512 - acc: 0.884 - ETA: 2:34 - loss: 0.3457 - acc: 0.884 - ETA: 2:33 - loss: 0.3460 - acc: 0.882 - ETA: 2:32 - loss: 0.3414 - acc: 0.883 - ETA: 2:31 - loss: 0.3342 - acc: 0.886 - ETA: 2:31 - loss: 0.3276 - acc: 0.888 - ETA: 2:30 - loss: 0.3222 - acc: 0.891 - ETA: 2:29 - loss: 0.3185 - acc: 0.892 - ETA: 2:28 - loss: 0.3165 - acc: 0.893 - ETA: 2:28 - loss: 0.3102 - acc: 0.895 - ETA: 2:27 - loss: 0.3072 - acc: 0.896 - ETA: 2:26 - loss: 0.3072 - acc: 0.896 - ETA: 2:25 - loss: 0.3023 - acc: 0.897 - ETA: 2:24 - loss: 0.3029 - acc: 0.896 - ETA: 2:23 - loss: 0.2993 - acc: 0.897 - ETA: 2:23 - loss: 0.2984 - acc: 0.898 - ETA: 2:22 - loss: 0.2943 - acc: 0.900 - ETA: 2:21 - loss: 0.2898 - acc: 0.902 - ETA: 2:20 - loss: 0.2907 - acc: 0.900 - ETA: 2:19 - loss: 0.2865 - acc: 0.902 - ETA: 2:19 - loss: 0.2857 - acc: 0.902 - ETA: 2:18 - loss: 0.2852 - acc: 0.902 - ETA: 2:17 - loss: 0.2869 - acc: 0.902 - ETA: 2:16 - loss: 0.2830 - acc: 0.902 - ETA: 2:15 - loss: 0.2831 - acc: 0.902 - ETA: 2:14 - loss: 0.2802 - acc: 0.903 - ETA: 2:14 - loss: 0.2820 - acc: 0.902 - ETA: 2:13 - loss: 0.2793 - acc: 0.904 - ETA: 2:12 - loss: 0.2807 - acc: 0.901 - ETA: 2:11 - loss: 0.2781 - acc: 0.902 - ETA: 2:10 - loss: 0.2763 - acc: 0.902 - ETA: 2:09 - loss: 0.2791 - acc: 0.901 - ETA: 2:09 - loss: 0.2760 - acc: 0.902 - ETA: 2:08 - loss: 0.2723 - acc: 0.904 - ETA: 2:07 - loss: 0.2687 - acc: 0.905 - ETA: 2:06 - loss: 0.2664 - acc: 0.906 - ETA: 2:05 - loss: 0.2644 - acc: 0.906 - ETA: 2:04 - loss: 0.2631 - acc: 0.906 - ETA: 2:04 - loss: 0.2607 - acc: 0.906 - ETA: 2:03 - loss: 0.2609 - acc: 0.907 - ETA: 2:02 - loss: 0.2581 - acc: 0.908 - ETA: 2:01 - loss: 0.2562 - acc: 0.908 - ETA: 2:00 - loss: 0.2555 - acc: 0.908 - ETA: 1:59 - loss: 0.2541 - acc: 0.908 - ETA: 1:59 - loss: 0.2537 - acc: 0.909 - ETA: 1:58 - loss: 0.2510 - acc: 0.910 - ETA: 1:57 - loss: 0.2511 - acc: 0.910 - ETA: 1:56 - loss: 0.2506 - acc: 0.910 - ETA: 1:55 - loss: 0.2486 - acc: 0.910 - ETA: 1:54 - loss: 0.2467 - acc: 0.910 - ETA: 1:54 - loss: 0.2451 - acc: 0.911 - ETA: 1:53 - loss: 0.2450 - acc: 0.910 - ETA: 1:52 - loss: 0.2426 - acc: 0.911 - ETA: 1:51 - loss: 0.2414 - acc: 0.911 - ETA: 1:50 - loss: 0.2397 - acc: 0.911 - ETA: 1:49 - loss: 0.2407 - acc: 0.911 - ETA: 1:48 - loss: 0.2399 - acc: 0.912 - ETA: 1:48 - loss: 0.2394 - acc: 0.912 - ETA: 1:47 - loss: 0.2440 - acc: 0.910 - ETA: 1:46 - loss: 0.2419 - acc: 0.911 - ETA: 1:45 - loss: 0.2407 - acc: 0.912 - ETA: 1:44 - loss: 0.2404 - acc: 0.911 - ETA: 1:43 - loss: 0.2382 - acc: 0.912 - ETA: 1:42 - loss: 0.2360 - acc: 0.913 - ETA: 1:42 - loss: 0.2337 - acc: 0.914 - ETA: 1:41 - loss: 0.2339 - acc: 0.914 - ETA: 1:40 - loss: 0.2319 - acc: 0.915 - ETA: 1:39 - loss: 0.2307 - acc: 0.915 - ETA: 1:38 - loss: 0.2307 - acc: 0.915 - ETA: 1:37 - loss: 0.2359 - acc: 0.915 - ETA: 1:37 - loss: 0.2382 - acc: 0.914 - ETA: 1:36 - loss: 0.2375 - acc: 0.914 - ETA: 1:35 - loss: 0.2384 - acc: 0.914 - ETA: 1:34 - loss: 0.2376 - acc: 0.915 - ETA: 1:33 - loss: 0.2375 - acc: 0.914 - ETA: 1:32 - loss: 0.2365 - acc: 0.914 - ETA: 1:31 - loss: 0.2379 - acc: 0.914 - ETA: 1:31 - loss: 0.2370 - acc: 0.914 - ETA: 1:30 - loss: 0.2369 - acc: 0.914 - ETA: 1:29 - loss: 0.2360 - acc: 0.914 - ETA: 1:28 - loss: 0.2384 - acc: 0.912 - ETA: 1:27 - loss: 0.2375 - acc: 0.913 - ETA: 1:26 - loss: 0.2367 - acc: 0.914 - ETA: 1:25 - loss: 0.2348 - acc: 0.914 - ETA: 1:25 - loss: 0.2337 - acc: 0.915 - ETA: 1:24 - loss: 0.2322 - acc: 0.915 - ETA: 1:23 - loss: 0.2318 - acc: 0.915 - ETA: 1:22 - loss: 0.2317 - acc: 0.915 - ETA: 1:21 - loss: 0.2315 - acc: 0.915 - ETA: 1:20 - loss: 0.2303 - acc: 0.916 - ETA: 1:20 - loss: 0.2299 - acc: 0.916 - ETA: 1:19 - loss: 0.2282 - acc: 0.916 - ETA: 1:18 - loss: 0.2271 - acc: 0.917 - ETA: 1:17 - loss: 0.2270 - acc: 0.917 - ETA: 1:16 - loss: 0.2278 - acc: 0.917 - ETA: 1:15 - loss: 0.2268 - acc: 0.918 - ETA: 1:14 - loss: 0.2258 - acc: 0.918 - ETA: 1:14 - loss: 0.2249 - acc: 0.918 - ETA: 1:13 - loss: 0.2247 - acc: 0.918 - ETA: 1:12 - loss: 0.2244 - acc: 0.919 - ETA: 1:11 - loss: 0.2247 - acc: 0.918 - ETA: 1:10 - loss: 0.2236 - acc: 0.919 - ETA: 1:09 - loss: 0.2224 - acc: 0.919 - ETA: 1:08 - loss: 0.2213 - acc: 0.920 - ETA: 1:08 - loss: 0.2213 - acc: 0.920 - ETA: 1:07 - loss: 0.2202 - acc: 0.920 - ETA: 1:06 - loss: 0.2189 - acc: 0.921 - ETA: 1:05 - loss: 0.2186 - acc: 0.921 - ETA: 1:04 - loss: 0.2174 - acc: 0.921 - ETA: 1:03 - loss: 0.2174 - acc: 0.921 - ETA: 1:02 - loss: 0.2166 - acc: 0.922 - ETA: 1:02 - loss: 0.2170 - acc: 0.921 - ETA: 1:01 - loss: 0.2180 - acc: 0.921 - ETA: 1:00 - loss: 0.2177 - acc: 0.921 - ETA: 59s - loss: 0.2168 - acc: 0.921 - ETA: 58s - loss: 0.2165 - acc: 0.92 - ETA: 57s - loss: 0.2177 - acc: 0.92 - ETA: 56s - loss: 0.2182 - acc: 0.92 - ETA: 55s - loss: 0.2183 - acc: 0.92 - ETA: 55s - loss: 0.2175 - acc: 0.92 - ETA: 54s - loss: 0.2184 - acc: 0.92 - ETA: 53s - loss: 0.2203 - acc: 0.92 - ETA: 52s - loss: 0.2199 - acc: 0.92 - ETA: 51s - loss: 0.2190 - acc: 0.92 - ETA: 50s - loss: 0.2186 - acc: 0.92 - ETA: 49s - loss: 0.2198 - acc: 0.92 - ETA: 49s - loss: 0.2195 - acc: 0.92 - ETA: 48s - loss: 0.2185 - acc: 0.92 - ETA: 47s - loss: 0.2176 - acc: 0.92 - ETA: 46s - loss: 0.2184 - acc: 0.92 - ETA: 45s - loss: 0.2194 - acc: 0.92 - ETA: 44s - loss: 0.2219 - acc: 0.92 - ETA: 43s - loss: 0.2215 - acc: 0.92 - ETA: 43s - loss: 0.2220 - acc: 0.92 - ETA: 42s - loss: 0.2210 - acc: 0.92 - ETA: 41s - loss: 0.2211 - acc: 0.92 - ETA: 40s - loss: 0.2221 - acc: 0.91 - ETA: 39s - loss: 0.2230 - acc: 0.91 - ETA: 38s - loss: 0.2219 - acc: 0.92 - ETA: 37s - loss: 0.2225 - acc: 0.91 - ETA: 37s - loss: 0.2230 - acc: 0.91 - ETA: 36s - loss: 0.2221 - acc: 0.92 - ETA: 35s - loss: 0.2232 - acc: 0.92 - ETA: 34s - loss: 0.2225 - acc: 0.92 - ETA: 33s - loss: 0.2223 - acc: 0.92 - ETA: 32s - loss: 0.2223 - acc: 0.92 - ETA: 31s - loss: 0.2229 - acc: 0.92 - ETA: 31s - loss: 0.2226 - acc: 0.92 - ETA: 30s - loss: 0.2230 - acc: 0.92 - ETA: 29s - loss: 0.2230 - acc: 0.92 - ETA: 28s - loss: 0.2238 - acc: 0.91 - ETA: 27s - loss: 0.2231 - acc: 0.92 - ETA: 26s - loss: 0.2252 - acc: 0.91 - ETA: 25s - loss: 0.2247 - acc: 0.91 - ETA: 25s - loss: 0.2238 - acc: 0.91 - ETA: 24s - loss: 0.2234 - acc: 0.91 - ETA: 23s - loss: 0.2230 - acc: 0.91 - ETA: 22s - loss: 0.2244 - acc: 0.91 - ETA: 21s - loss: 0.2243 - acc: 0.91 - ETA: 20s - loss: 0.2235 - acc: 0.91 - ETA: 19s - loss: 0.2229 - acc: 0.91 - ETA: 18s - loss: 0.2230 - acc: 0.91 - ETA: 18s - loss: 0.2236 - acc: 0.91 - ETA: 17s - loss: 0.2226 - acc: 0.91 - ETA: 16s - loss: 0.2217 - acc: 0.92 - ETA: 15s - loss: 0.2210 - acc: 0.92 - ETA: 14s - loss: 0.2206 - acc: 0.92 - ETA: 13s - loss: 0.2200 - acc: 0.92 - ETA: 12s - loss: 0.2198 - acc: 0.92 - ETA: 12s - loss: 0.2192 - acc: 0.92 - ETA: 11s - loss: 0.2185 - acc: 0.92 - ETA: 10s - loss: 0.2177 - acc: 0.92 - ETA: 9s - loss: 0.2171 - acc: 0.9226 - ETA: 8s - loss: 0.2167 - acc: 0.922 - ETA: 7s - loss: 0.2172 - acc: 0.9227"
     ]
    },
    {
     "name": "stdout",
     "output_type": "stream",
     "text": [
      "216/216 [==============================] - ETA: 6s - loss: 0.2165 - acc: 0.923 - ETA: 6s - loss: 0.2167 - acc: 0.923 - ETA: 5s - loss: 0.2165 - acc: 0.923 - ETA: 4s - loss: 0.2169 - acc: 0.922 - ETA: 3s - loss: 0.2178 - acc: 0.922 - ETA: 2s - loss: 0.2191 - acc: 0.921 - ETA: 1s - loss: 0.2182 - acc: 0.922 - ETA: 0s - loss: 0.2178 - acc: 0.922 - 215s 998ms/step - loss: 0.2219 - acc: 0.9213 - val_loss: 0.3241 - val_acc: 0.8936\n",
      "Epoch 5/14\n"
     ]
    },
    {
     "name": "stdout",
     "output_type": "stream",
     "text": [
      "207/216 [===========================>..] - ETA: 3:06 - loss: 0.6012 - acc: 0.875 - ETA: 3:06 - loss: 0.3126 - acc: 0.937 - ETA: 3:05 - loss: 0.3476 - acc: 0.875 - ETA: 2:34 - loss: 0.2710 - acc: 0.906 - ETA: 2:39 - loss: 0.2391 - acc: 0.912 - ETA: 2:43 - loss: 0.2248 - acc: 0.916 - ETA: 2:45 - loss: 0.2277 - acc: 0.919 - ETA: 2:46 - loss: 0.2064 - acc: 0.929 - ETA: 2:47 - loss: 0.1930 - acc: 0.937 - ETA: 2:48 - loss: 0.1874 - acc: 0.937 - ETA: 2:48 - loss: 0.1753 - acc: 0.943 - ETA: 2:48 - loss: 0.1772 - acc: 0.942 - ETA: 2:48 - loss: 0.1827 - acc: 0.942 - ETA: 2:48 - loss: 0.1839 - acc: 0.942 - ETA: 2:48 - loss: 0.1753 - acc: 0.945 - ETA: 2:48 - loss: 0.1676 - acc: 0.949 - ETA: 2:47 - loss: 0.1775 - acc: 0.944 - ETA: 2:47 - loss: 0.1705 - acc: 0.947 - ETA: 2:46 - loss: 0.1737 - acc: 0.944 - ETA: 2:46 - loss: 0.1691 - acc: 0.946 - ETA: 2:45 - loss: 0.1741 - acc: 0.943 - ETA: 2:44 - loss: 0.1734 - acc: 0.946 - ETA: 2:44 - loss: 0.1690 - acc: 0.945 - ETA: 2:43 - loss: 0.1678 - acc: 0.945 - ETA: 2:43 - loss: 0.1626 - acc: 0.947 - ETA: 2:42 - loss: 0.1593 - acc: 0.949 - ETA: 2:41 - loss: 0.1583 - acc: 0.951 - ETA: 2:41 - loss: 0.1555 - acc: 0.953 - ETA: 2:40 - loss: 0.1525 - acc: 0.952 - ETA: 2:39 - loss: 0.1552 - acc: 0.952 - ETA: 2:38 - loss: 0.1637 - acc: 0.947 - ETA: 2:38 - loss: 0.1643 - acc: 0.947 - ETA: 2:37 - loss: 0.1699 - acc: 0.947 - ETA: 2:36 - loss: 0.1667 - acc: 0.948 - ETA: 2:35 - loss: 0.1697 - acc: 0.946 - ETA: 2:34 - loss: 0.1711 - acc: 0.944 - ETA: 2:34 - loss: 0.1781 - acc: 0.940 - ETA: 2:33 - loss: 0.1755 - acc: 0.942 - ETA: 2:32 - loss: 0.1744 - acc: 0.942 - ETA: 2:31 - loss: 0.1770 - acc: 0.940 - ETA: 2:30 - loss: 0.1860 - acc: 0.939 - ETA: 2:30 - loss: 0.1837 - acc: 0.939 - ETA: 2:29 - loss: 0.1822 - acc: 0.939 - ETA: 2:28 - loss: 0.1826 - acc: 0.938 - ETA: 2:27 - loss: 0.1788 - acc: 0.940 - ETA: 2:26 - loss: 0.1774 - acc: 0.940 - ETA: 2:25 - loss: 0.1793 - acc: 0.938 - ETA: 2:25 - loss: 0.1774 - acc: 0.938 - ETA: 2:24 - loss: 0.1788 - acc: 0.937 - ETA: 2:23 - loss: 0.1806 - acc: 0.936 - ETA: 2:22 - loss: 0.1792 - acc: 0.936 - ETA: 2:21 - loss: 0.1800 - acc: 0.936 - ETA: 2:20 - loss: 0.1804 - acc: 0.936 - ETA: 2:20 - loss: 0.1841 - acc: 0.935 - ETA: 2:19 - loss: 0.1847 - acc: 0.934 - ETA: 2:18 - loss: 0.1848 - acc: 0.933 - ETA: 2:17 - loss: 0.1831 - acc: 0.933 - ETA: 2:16 - loss: 0.1843 - acc: 0.932 - ETA: 2:15 - loss: 0.1848 - acc: 0.932 - ETA: 2:14 - loss: 0.1847 - acc: 0.932 - ETA: 2:14 - loss: 0.1837 - acc: 0.932 - ETA: 2:13 - loss: 0.1820 - acc: 0.932 - ETA: 2:12 - loss: 0.1820 - acc: 0.932 - ETA: 2:11 - loss: 0.1802 - acc: 0.933 - ETA: 2:10 - loss: 0.1779 - acc: 0.934 - ETA: 2:09 - loss: 0.1774 - acc: 0.934 - ETA: 2:09 - loss: 0.1770 - acc: 0.934 - ETA: 2:08 - loss: 0.1756 - acc: 0.934 - ETA: 2:07 - loss: 0.1786 - acc: 0.933 - ETA: 2:06 - loss: 0.1770 - acc: 0.933 - ETA: 2:05 - loss: 0.1753 - acc: 0.934 - ETA: 2:04 - loss: 0.1732 - acc: 0.935 - ETA: 2:03 - loss: 0.1716 - acc: 0.935 - ETA: 2:03 - loss: 0.1711 - acc: 0.935 - ETA: 2:02 - loss: 0.1717 - acc: 0.935 - ETA: 2:01 - loss: 0.1796 - acc: 0.931 - ETA: 2:00 - loss: 0.1804 - acc: 0.930 - ETA: 1:59 - loss: 0.1786 - acc: 0.931 - ETA: 1:58 - loss: 0.1816 - acc: 0.929 - ETA: 1:58 - loss: 0.1795 - acc: 0.930 - ETA: 1:57 - loss: 0.1809 - acc: 0.930 - ETA: 1:56 - loss: 0.1866 - acc: 0.928 - ETA: 1:55 - loss: 0.1883 - acc: 0.927 - ETA: 1:54 - loss: 0.1917 - acc: 0.926 - ETA: 1:53 - loss: 0.1901 - acc: 0.927 - ETA: 1:52 - loss: 0.1891 - acc: 0.928 - ETA: 1:52 - loss: 0.1876 - acc: 0.928 - ETA: 1:51 - loss: 0.1859 - acc: 0.929 - ETA: 1:50 - loss: 0.1871 - acc: 0.929 - ETA: 1:49 - loss: 0.1871 - acc: 0.928 - ETA: 1:48 - loss: 0.1881 - acc: 0.927 - ETA: 1:47 - loss: 0.1927 - acc: 0.927 - ETA: 1:46 - loss: 0.1931 - acc: 0.927 - ETA: 1:46 - loss: 0.1921 - acc: 0.928 - ETA: 1:45 - loss: 0.1939 - acc: 0.927 - ETA: 1:44 - loss: 0.1923 - acc: 0.927 - ETA: 1:43 - loss: 0.1913 - acc: 0.928 - ETA: 1:42 - loss: 0.1917 - acc: 0.928 - ETA: 1:41 - loss: 0.1911 - acc: 0.928 - ETA: 1:40 - loss: 0.1914 - acc: 0.928 - ETA: 1:39 - loss: 0.1939 - acc: 0.926 - ETA: 1:39 - loss: 0.1952 - acc: 0.925 - ETA: 1:38 - loss: 0.1943 - acc: 0.926 - ETA: 1:37 - loss: 0.1930 - acc: 0.926 - ETA: 1:36 - loss: 0.1926 - acc: 0.926 - ETA: 1:35 - loss: 0.1934 - acc: 0.926 - ETA: 1:34 - loss: 0.1920 - acc: 0.927 - ETA: 1:33 - loss: 0.1910 - acc: 0.927 - ETA: 1:33 - loss: 0.1896 - acc: 0.928 - ETA: 1:32 - loss: 0.1883 - acc: 0.929 - ETA: 1:31 - loss: 0.1897 - acc: 0.928 - ETA: 1:30 - loss: 0.1908 - acc: 0.928 - ETA: 1:29 - loss: 0.1912 - acc: 0.928 - ETA: 1:28 - loss: 0.1923 - acc: 0.927 - ETA: 1:27 - loss: 0.1957 - acc: 0.927 - ETA: 1:26 - loss: 0.1944 - acc: 0.927 - ETA: 1:26 - loss: 0.1959 - acc: 0.927 - ETA: 1:25 - loss: 0.1953 - acc: 0.927 - ETA: 1:24 - loss: 0.1964 - acc: 0.927 - ETA: 1:23 - loss: 0.1963 - acc: 0.927 - ETA: 1:22 - loss: 0.1965 - acc: 0.927 - ETA: 1:21 - loss: 0.1958 - acc: 0.927 - ETA: 1:20 - loss: 0.1960 - acc: 0.927 - ETA: 1:20 - loss: 0.1948 - acc: 0.928 - ETA: 1:19 - loss: 0.1940 - acc: 0.929 - ETA: 1:18 - loss: 0.1968 - acc: 0.927 - ETA: 1:17 - loss: 0.1959 - acc: 0.928 - ETA: 1:16 - loss: 0.1958 - acc: 0.928 - ETA: 1:15 - loss: 0.1953 - acc: 0.928 - ETA: 1:14 - loss: 0.1952 - acc: 0.928 - ETA: 1:13 - loss: 0.1945 - acc: 0.928 - ETA: 1:13 - loss: 0.1943 - acc: 0.928 - ETA: 1:12 - loss: 0.1940 - acc: 0.929 - ETA: 1:11 - loss: 0.1960 - acc: 0.928 - ETA: 1:10 - loss: 0.1954 - acc: 0.928 - ETA: 1:09 - loss: 0.1952 - acc: 0.928 - ETA: 1:08 - loss: 0.1959 - acc: 0.927 - ETA: 1:07 - loss: 0.1947 - acc: 0.928 - ETA: 1:07 - loss: 0.1936 - acc: 0.929 - ETA: 1:06 - loss: 0.1972 - acc: 0.928 - ETA: 1:05 - loss: 0.1977 - acc: 0.927 - ETA: 1:04 - loss: 0.1992 - acc: 0.927 - ETA: 1:03 - loss: 0.1992 - acc: 0.927 - ETA: 1:02 - loss: 0.2003 - acc: 0.926 - ETA: 1:01 - loss: 0.2021 - acc: 0.925 - ETA: 1:00 - loss: 0.2018 - acc: 0.925 - ETA: 1:00 - loss: 0.2006 - acc: 0.926 - ETA: 59s - loss: 0.2001 - acc: 0.926 - ETA: 58s - loss: 0.2011 - acc: 0.92 - ETA: 57s - loss: 0.2013 - acc: 0.92 - ETA: 56s - loss: 0.2018 - acc: 0.92 - ETA: 55s - loss: 0.2016 - acc: 0.92 - ETA: 54s - loss: 0.2016 - acc: 0.92 - ETA: 54s - loss: 0.2017 - acc: 0.92 - ETA: 53s - loss: 0.2034 - acc: 0.92 - ETA: 52s - loss: 0.2033 - acc: 0.92 - ETA: 51s - loss: 0.2038 - acc: 0.92 - ETA: 50s - loss: 0.2042 - acc: 0.92 - ETA: 49s - loss: 0.2036 - acc: 0.92 - ETA: 48s - loss: 0.2038 - acc: 0.92 - ETA: 47s - loss: 0.2045 - acc: 0.92 - ETA: 47s - loss: 0.2037 - acc: 0.92 - ETA: 46s - loss: 0.2041 - acc: 0.92 - ETA: 45s - loss: 0.2032 - acc: 0.92 - ETA: 44s - loss: 0.2026 - acc: 0.92 - ETA: 43s - loss: 0.2017 - acc: 0.92 - ETA: 42s - loss: 0.2022 - acc: 0.92 - ETA: 41s - loss: 0.2023 - acc: 0.92 - ETA: 40s - loss: 0.2027 - acc: 0.92 - ETA: 40s - loss: 0.2032 - acc: 0.92 - ETA: 39s - loss: 0.2053 - acc: 0.92 - ETA: 38s - loss: 0.2045 - acc: 0.92 - ETA: 37s - loss: 0.2043 - acc: 0.92 - ETA: 36s - loss: 0.2035 - acc: 0.92 - ETA: 35s - loss: 0.2037 - acc: 0.92 - ETA: 34s - loss: 0.2048 - acc: 0.92 - ETA: 33s - loss: 0.2052 - acc: 0.92 - ETA: 33s - loss: 0.2047 - acc: 0.92 - ETA: 32s - loss: 0.2039 - acc: 0.92 - ETA: 31s - loss: 0.2047 - acc: 0.92 - ETA: 30s - loss: 0.2047 - acc: 0.92 - ETA: 29s - loss: 0.2036 - acc: 0.92 - ETA: 28s - loss: 0.2030 - acc: 0.92 - ETA: 27s - loss: 0.2024 - acc: 0.92 - ETA: 27s - loss: 0.2023 - acc: 0.92 - ETA: 26s - loss: 0.2014 - acc: 0.92 - ETA: 25s - loss: 0.2010 - acc: 0.92 - ETA: 24s - loss: 0.2008 - acc: 0.92 - ETA: 23s - loss: 0.2019 - acc: 0.92 - ETA: 22s - loss: 0.2013 - acc: 0.92 - ETA: 21s - loss: 0.2008 - acc: 0.92 - ETA: 20s - loss: 0.2000 - acc: 0.92 - ETA: 20s - loss: 0.2000 - acc: 0.92 - ETA: 19s - loss: 0.1991 - acc: 0.92 - ETA: 18s - loss: 0.1987 - acc: 0.92 - ETA: 17s - loss: 0.1983 - acc: 0.92 - ETA: 16s - loss: 0.1988 - acc: 0.92 - ETA: 15s - loss: 0.1987 - acc: 0.92 - ETA: 14s - loss: 0.1983 - acc: 0.92 - ETA: 13s - loss: 0.1983 - acc: 0.92 - ETA: 13s - loss: 0.1975 - acc: 0.92 - ETA: 12s - loss: 0.1968 - acc: 0.92 - ETA: 11s - loss: 0.1964 - acc: 0.92 - ETA: 10s - loss: 0.1958 - acc: 0.92 - ETA: 9s - loss: 0.1959 - acc: 0.9293 - ETA: 8s - loss: 0.1956 - acc: 0.929 - ETA: 7s - loss: 0.1949 - acc: 0.9296216/216 [==============================] - ETA: 6s - loss: 0.1940 - acc: 0.930 - ETA: 6s - loss: 0.1936 - acc: 0.929 - ETA: 5s - loss: 0.1934 - acc: 0.929 - ETA: 4s - loss: 0.1929 - acc: 0.930 - ETA: 3s - loss: 0.1932 - acc: 0.930 - ETA: 2s - loss: 0.1936 - acc: 0.929 - ETA: 1s - loss: 0.1931 - acc: 0.929 - ETA: 0s - loss: 0.1923 - acc: 0.929 - 217s 1s/step - loss: 0.1929 - acc: 0.9300 - val_loss: 0.3650 - val_acc: 0.9017\n",
      "Epoch 6/14\n"
     ]
    },
    {
     "name": "stdout",
     "output_type": "stream",
     "text": [
      "207/216 [===========================>..] - ETA: 3:06 - loss: 0.0906 - acc: 0.937 - ETA: 3:06 - loss: 0.3850 - acc: 0.843 - ETA: 3:05 - loss: 0.3098 - acc: 0.875 - ETA: 3:04 - loss: 0.2343 - acc: 0.906 - ETA: 2:40 - loss: 0.1884 - acc: 0.925 - ETA: 2:43 - loss: 0.1832 - acc: 0.927 - ETA: 2:45 - loss: 0.1873 - acc: 0.928 - ETA: 2:46 - loss: 0.1901 - acc: 0.929 - ETA: 2:47 - loss: 0.2239 - acc: 0.923 - ETA: 2:48 - loss: 0.2043 - acc: 0.931 - ETA: 2:48 - loss: 0.2002 - acc: 0.931 - ETA: 2:48 - loss: 0.2139 - acc: 0.927 - ETA: 2:48 - loss: 0.2009 - acc: 0.932 - ETA: 2:48 - loss: 0.1882 - acc: 0.937 - ETA: 2:47 - loss: 0.1759 - acc: 0.941 - ETA: 2:47 - loss: 0.1685 - acc: 0.945 - ETA: 2:47 - loss: 0.1618 - acc: 0.948 - ETA: 2:46 - loss: 0.1613 - acc: 0.947 - ETA: 2:46 - loss: 0.1686 - acc: 0.944 - ETA: 2:45 - loss: 0.1624 - acc: 0.946 - ETA: 2:44 - loss: 0.1643 - acc: 0.946 - ETA: 2:44 - loss: 0.1686 - acc: 0.943 - ETA: 2:43 - loss: 0.1728 - acc: 0.940 - ETA: 2:42 - loss: 0.1716 - acc: 0.940 - ETA: 2:42 - loss: 0.1675 - acc: 0.942 - ETA: 2:41 - loss: 0.1770 - acc: 0.942 - ETA: 2:40 - loss: 0.1861 - acc: 0.937 - ETA: 2:40 - loss: 0.1843 - acc: 0.937 - ETA: 2:39 - loss: 0.1794 - acc: 0.939 - ETA: 2:38 - loss: 0.1826 - acc: 0.937 - ETA: 2:37 - loss: 0.1787 - acc: 0.939 - ETA: 2:37 - loss: 0.1762 - acc: 0.941 - ETA: 2:36 - loss: 0.1745 - acc: 0.941 - ETA: 2:35 - loss: 0.1770 - acc: 0.941 - ETA: 2:34 - loss: 0.1738 - acc: 0.942 - ETA: 2:34 - loss: 0.1724 - acc: 0.944 - ETA: 2:33 - loss: 0.1732 - acc: 0.944 - ETA: 2:32 - loss: 0.1703 - acc: 0.945 - ETA: 2:31 - loss: 0.1697 - acc: 0.945 - ETA: 2:31 - loss: 0.1661 - acc: 0.946 - ETA: 2:30 - loss: 0.1687 - acc: 0.946 - ETA: 2:29 - loss: 0.1653 - acc: 0.947 - ETA: 2:28 - loss: 0.1655 - acc: 0.947 - ETA: 2:27 - loss: 0.1624 - acc: 0.948 - ETA: 2:27 - loss: 0.1602 - acc: 0.950 - ETA: 2:26 - loss: 0.1577 - acc: 0.951 - ETA: 2:25 - loss: 0.1550 - acc: 0.952 - ETA: 2:24 - loss: 0.1520 - acc: 0.953 - ETA: 2:23 - loss: 0.1542 - acc: 0.950 - ETA: 2:22 - loss: 0.1512 - acc: 0.951 - ETA: 2:22 - loss: 0.1529 - acc: 0.949 - ETA: 2:21 - loss: 0.1523 - acc: 0.949 - ETA: 2:20 - loss: 0.1543 - acc: 0.949 - ETA: 2:19 - loss: 0.1565 - acc: 0.947 - ETA: 2:18 - loss: 0.1590 - acc: 0.947 - ETA: 2:17 - loss: 0.1586 - acc: 0.946 - ETA: 2:17 - loss: 0.1586 - acc: 0.946 - ETA: 2:16 - loss: 0.1592 - acc: 0.945 - ETA: 2:15 - loss: 0.1614 - acc: 0.943 - ETA: 2:14 - loss: 0.1600 - acc: 0.943 - ETA: 2:13 - loss: 0.1595 - acc: 0.943 - ETA: 2:12 - loss: 0.1572 - acc: 0.944 - ETA: 2:12 - loss: 0.1568 - acc: 0.945 - ETA: 2:11 - loss: 0.1595 - acc: 0.944 - ETA: 2:10 - loss: 0.1587 - acc: 0.944 - ETA: 2:09 - loss: 0.1583 - acc: 0.944 - ETA: 2:08 - loss: 0.1560 - acc: 0.945 - ETA: 2:07 - loss: 0.1538 - acc: 0.945 - ETA: 2:07 - loss: 0.1526 - acc: 0.946 - ETA: 2:06 - loss: 0.1510 - acc: 0.947 - ETA: 2:05 - loss: 0.1527 - acc: 0.946 - ETA: 2:04 - loss: 0.1512 - acc: 0.947 - ETA: 2:03 - loss: 0.1504 - acc: 0.946 - ETA: 2:02 - loss: 0.1508 - acc: 0.946 - ETA: 2:01 - loss: 0.1514 - acc: 0.946 - ETA: 2:01 - loss: 0.1500 - acc: 0.947 - ETA: 2:00 - loss: 0.1502 - acc: 0.947 - ETA: 1:59 - loss: 0.1497 - acc: 0.947 - ETA: 1:58 - loss: 0.1484 - acc: 0.947 - ETA: 1:57 - loss: 0.1470 - acc: 0.948 - ETA: 1:56 - loss: 0.1453 - acc: 0.949 - ETA: 1:55 - loss: 0.1452 - acc: 0.948 - ETA: 1:55 - loss: 0.1438 - acc: 0.949 - ETA: 1:54 - loss: 0.1465 - acc: 0.947 - ETA: 1:53 - loss: 0.1458 - acc: 0.947 - ETA: 1:52 - loss: 0.1468 - acc: 0.947 - ETA: 1:51 - loss: 0.1470 - acc: 0.947 - ETA: 1:50 - loss: 0.1468 - acc: 0.947 - ETA: 1:50 - loss: 0.1453 - acc: 0.948 - ETA: 1:49 - loss: 0.1447 - acc: 0.947 - ETA: 1:48 - loss: 0.1478 - acc: 0.946 - ETA: 1:47 - loss: 0.1464 - acc: 0.947 - ETA: 1:46 - loss: 0.1465 - acc: 0.946 - ETA: 1:45 - loss: 0.1453 - acc: 0.947 - ETA: 1:44 - loss: 0.1444 - acc: 0.948 - ETA: 1:43 - loss: 0.1445 - acc: 0.947 - ETA: 1:43 - loss: 0.1441 - acc: 0.947 - ETA: 1:42 - loss: 0.1447 - acc: 0.947 - ETA: 1:41 - loss: 0.1445 - acc: 0.947 - ETA: 1:40 - loss: 0.1446 - acc: 0.946 - ETA: 1:39 - loss: 0.1434 - acc: 0.947 - ETA: 1:38 - loss: 0.1442 - acc: 0.947 - ETA: 1:37 - loss: 0.1431 - acc: 0.947 - ETA: 1:37 - loss: 0.1434 - acc: 0.947 - ETA: 1:36 - loss: 0.1428 - acc: 0.948 - ETA: 1:35 - loss: 0.1461 - acc: 0.946 - ETA: 1:34 - loss: 0.1450 - acc: 0.946 - ETA: 1:33 - loss: 0.1439 - acc: 0.947 - ETA: 1:32 - loss: 0.1430 - acc: 0.947 - ETA: 1:31 - loss: 0.1423 - acc: 0.948 - ETA: 1:31 - loss: 0.1412 - acc: 0.948 - ETA: 1:30 - loss: 0.1413 - acc: 0.948 - ETA: 1:29 - loss: 0.1409 - acc: 0.948 - ETA: 1:28 - loss: 0.1403 - acc: 0.949 - ETA: 1:27 - loss: 0.1395 - acc: 0.949 - ETA: 1:26 - loss: 0.1388 - acc: 0.949 - ETA: 1:25 - loss: 0.1415 - acc: 0.948 - ETA: 1:25 - loss: 0.1421 - acc: 0.948 - ETA: 1:24 - loss: 0.1429 - acc: 0.947 - ETA: 1:23 - loss: 0.1419 - acc: 0.947 - ETA: 1:22 - loss: 0.1427 - acc: 0.947 - ETA: 1:21 - loss: 0.1417 - acc: 0.948 - ETA: 1:20 - loss: 0.1420 - acc: 0.947 - ETA: 1:19 - loss: 0.1431 - acc: 0.947 - ETA: 1:18 - loss: 0.1438 - acc: 0.947 - ETA: 1:18 - loss: 0.1429 - acc: 0.947 - ETA: 1:17 - loss: 0.1419 - acc: 0.948 - ETA: 1:16 - loss: 0.1417 - acc: 0.948 - ETA: 1:15 - loss: 0.1461 - acc: 0.948 - ETA: 1:14 - loss: 0.1459 - acc: 0.948 - ETA: 1:13 - loss: 0.1449 - acc: 0.948 - ETA: 1:12 - loss: 0.1445 - acc: 0.948 - ETA: 1:12 - loss: 0.1434 - acc: 0.949 - ETA: 1:11 - loss: 0.1434 - acc: 0.949 - ETA: 1:10 - loss: 0.1435 - acc: 0.949 - ETA: 1:09 - loss: 0.1450 - acc: 0.949 - ETA: 1:08 - loss: 0.1444 - acc: 0.949 - ETA: 1:07 - loss: 0.1445 - acc: 0.948 - ETA: 1:06 - loss: 0.1436 - acc: 0.949 - ETA: 1:06 - loss: 0.1430 - acc: 0.949 - ETA: 1:05 - loss: 0.1432 - acc: 0.949 - ETA: 1:04 - loss: 0.1434 - acc: 0.949 - ETA: 1:03 - loss: 0.1434 - acc: 0.948 - ETA: 1:02 - loss: 0.1430 - acc: 0.948 - ETA: 1:01 - loss: 0.1425 - acc: 0.949 - ETA: 1:00 - loss: 0.1419 - acc: 0.949 - ETA: 59s - loss: 0.1424 - acc: 0.949 - ETA: 59s - loss: 0.1428 - acc: 0.94 - ETA: 58s - loss: 0.1428 - acc: 0.94 - ETA: 57s - loss: 0.1424 - acc: 0.94 - ETA: 56s - loss: 0.1428 - acc: 0.94 - ETA: 55s - loss: 0.1421 - acc: 0.94 - ETA: 54s - loss: 0.1417 - acc: 0.94 - ETA: 53s - loss: 0.1415 - acc: 0.94 - ETA: 53s - loss: 0.1444 - acc: 0.94 - ETA: 52s - loss: 0.1435 - acc: 0.94 - ETA: 51s - loss: 0.1427 - acc: 0.94 - ETA: 50s - loss: 0.1424 - acc: 0.94 - ETA: 49s - loss: 0.1432 - acc: 0.94 - ETA: 48s - loss: 0.1429 - acc: 0.94 - ETA: 47s - loss: 0.1430 - acc: 0.94 - ETA: 46s - loss: 0.1421 - acc: 0.94 - ETA: 46s - loss: 0.1433 - acc: 0.94 - ETA: 45s - loss: 0.1429 - acc: 0.94 - ETA: 44s - loss: 0.1428 - acc: 0.94 - ETA: 43s - loss: 0.1421 - acc: 0.94 - ETA: 42s - loss: 0.1418 - acc: 0.94 - ETA: 41s - loss: 0.1416 - acc: 0.94 - ETA: 40s - loss: 0.1420 - acc: 0.94 - ETA: 39s - loss: 0.1413 - acc: 0.94 - ETA: 39s - loss: 0.1414 - acc: 0.94 - ETA: 38s - loss: 0.1425 - acc: 0.94 - ETA: 37s - loss: 0.1421 - acc: 0.94 - ETA: 36s - loss: 0.1422 - acc: 0.94 - ETA: 35s - loss: 0.1416 - acc: 0.94 - ETA: 34s - loss: 0.1414 - acc: 0.94 - ETA: 33s - loss: 0.1409 - acc: 0.94 - ETA: 33s - loss: 0.1414 - acc: 0.94 - ETA: 32s - loss: 0.1421 - acc: 0.94 - ETA: 31s - loss: 0.1417 - acc: 0.94 - ETA: 30s - loss: 0.1416 - acc: 0.94 - ETA: 29s - loss: 0.1419 - acc: 0.94 - ETA: 28s - loss: 0.1414 - acc: 0.94 - ETA: 27s - loss: 0.1407 - acc: 0.94 - ETA: 26s - loss: 0.1411 - acc: 0.94 - ETA: 26s - loss: 0.1409 - acc: 0.94 - ETA: 25s - loss: 0.1414 - acc: 0.94 - ETA: 24s - loss: 0.1420 - acc: 0.94 - ETA: 23s - loss: 0.1426 - acc: 0.94 - ETA: 22s - loss: 0.1431 - acc: 0.94 - ETA: 21s - loss: 0.1434 - acc: 0.94 - ETA: 20s - loss: 0.1428 - acc: 0.94 - ETA: 20s - loss: 0.1426 - acc: 0.94 - ETA: 19s - loss: 0.1423 - acc: 0.94 - ETA: 18s - loss: 0.1416 - acc: 0.94 - ETA: 17s - loss: 0.1415 - acc: 0.94 - ETA: 16s - loss: 0.1408 - acc: 0.94 - ETA: 15s - loss: 0.1401 - acc: 0.94 - ETA: 14s - loss: 0.1398 - acc: 0.94 - ETA: 13s - loss: 0.1392 - acc: 0.94 - ETA: 13s - loss: 0.1391 - acc: 0.94 - ETA: 12s - loss: 0.1385 - acc: 0.94 - ETA: 11s - loss: 0.1387 - acc: 0.94 - ETA: 10s - loss: 0.1385 - acc: 0.94 - ETA: 9s - loss: 0.1394 - acc: 0.9482 - ETA: 8s - loss: 0.1388 - acc: 0.948 - ETA: 7s - loss: 0.1389 - acc: 0.9484"
     ]
    },
    {
     "name": "stdout",
     "output_type": "stream",
     "text": [
      "216/216 [==============================] - ETA: 6s - loss: 0.1394 - acc: 0.948 - ETA: 6s - loss: 0.1407 - acc: 0.948 - ETA: 5s - loss: 0.1401 - acc: 0.948 - ETA: 4s - loss: 0.1405 - acc: 0.948 - ETA: 3s - loss: 0.1405 - acc: 0.948 - ETA: 2s - loss: 0.1405 - acc: 0.948 - ETA: 1s - loss: 0.1400 - acc: 0.948 - ETA: 0s - loss: 0.1400 - acc: 0.948 - 217s 1s/step - loss: 0.1403 - acc: 0.9482 - val_loss: 0.3429 - val_acc: 0.9029\n",
      "Epoch 7/14\n"
     ]
    },
    {
     "name": "stdout",
     "output_type": "stream",
     "text": [
      "207/216 [===========================>..] - ETA: 3:06 - loss: 0.0498 - acc: 1.000 - ETA: 3:05 - loss: 0.1252 - acc: 0.968 - ETA: 3:05 - loss: 0.1069 - acc: 0.979 - ETA: 3:04 - loss: 0.1882 - acc: 0.937 - ETA: 3:04 - loss: 0.1717 - acc: 0.937 - ETA: 2:43 - loss: 0.1436 - acc: 0.947 - ETA: 2:45 - loss: 0.1373 - acc: 0.946 - ETA: 2:46 - loss: 0.1329 - acc: 0.953 - ETA: 2:47 - loss: 0.1414 - acc: 0.951 - ETA: 2:48 - loss: 0.1337 - acc: 0.956 - ETA: 2:48 - loss: 0.1402 - acc: 0.954 - ETA: 2:48 - loss: 0.1316 - acc: 0.958 - ETA: 2:48 - loss: 0.1322 - acc: 0.956 - ETA: 2:47 - loss: 0.1235 - acc: 0.959 - ETA: 2:47 - loss: 0.1176 - acc: 0.962 - ETA: 2:47 - loss: 0.1121 - acc: 0.964 - ETA: 2:46 - loss: 0.1183 - acc: 0.963 - ETA: 2:46 - loss: 0.1189 - acc: 0.961 - ETA: 2:46 - loss: 0.1192 - acc: 0.960 - ETA: 2:45 - loss: 0.1174 - acc: 0.962 - ETA: 2:44 - loss: 0.1123 - acc: 0.964 - ETA: 2:44 - loss: 0.1176 - acc: 0.963 - ETA: 2:43 - loss: 0.1211 - acc: 0.959 - ETA: 2:43 - loss: 0.1205 - acc: 0.960 - ETA: 2:42 - loss: 0.1180 - acc: 0.962 - ETA: 2:41 - loss: 0.1167 - acc: 0.961 - ETA: 2:41 - loss: 0.1160 - acc: 0.963 - ETA: 2:40 - loss: 0.1185 - acc: 0.962 - ETA: 2:39 - loss: 0.1238 - acc: 0.961 - ETA: 2:38 - loss: 0.1223 - acc: 0.960 - ETA: 2:38 - loss: 0.1305 - acc: 0.957 - ETA: 2:37 - loss: 0.1268 - acc: 0.959 - ETA: 2:36 - loss: 0.1238 - acc: 0.960 - ETA: 2:35 - loss: 0.1237 - acc: 0.959 - ETA: 2:35 - loss: 0.1241 - acc: 0.957 - ETA: 2:34 - loss: 0.1326 - acc: 0.956 - ETA: 2:33 - loss: 0.1293 - acc: 0.957 - ETA: 2:32 - loss: 0.1379 - acc: 0.953 - ETA: 2:32 - loss: 0.1346 - acc: 0.955 - ETA: 2:31 - loss: 0.1367 - acc: 0.953 - ETA: 2:30 - loss: 0.1531 - acc: 0.948 - ETA: 2:29 - loss: 0.1601 - acc: 0.946 - ETA: 2:28 - loss: 0.1571 - acc: 0.947 - ETA: 2:28 - loss: 0.1578 - acc: 0.946 - ETA: 2:27 - loss: 0.1579 - acc: 0.945 - ETA: 2:26 - loss: 0.1557 - acc: 0.947 - ETA: 2:25 - loss: 0.1545 - acc: 0.946 - ETA: 2:24 - loss: 0.1546 - acc: 0.946 - ETA: 2:23 - loss: 0.1520 - acc: 0.947 - ETA: 2:23 - loss: 0.1509 - acc: 0.948 - ETA: 2:22 - loss: 0.1526 - acc: 0.947 - ETA: 2:21 - loss: 0.1510 - acc: 0.948 - ETA: 2:20 - loss: 0.1532 - acc: 0.948 - ETA: 2:19 - loss: 0.1605 - acc: 0.943 - ETA: 2:18 - loss: 0.1648 - acc: 0.943 - ETA: 2:18 - loss: 0.1636 - acc: 0.943 - ETA: 2:17 - loss: 0.1627 - acc: 0.943 - ETA: 2:16 - loss: 0.1639 - acc: 0.941 - ETA: 2:15 - loss: 0.1630 - acc: 0.941 - ETA: 2:14 - loss: 0.1627 - acc: 0.941 - ETA: 2:13 - loss: 0.1638 - acc: 0.940 - ETA: 2:13 - loss: 0.1638 - acc: 0.940 - ETA: 2:12 - loss: 0.1658 - acc: 0.939 - ETA: 2:11 - loss: 0.1671 - acc: 0.939 - ETA: 2:10 - loss: 0.1725 - acc: 0.938 - ETA: 2:09 - loss: 0.1719 - acc: 0.938 - ETA: 2:08 - loss: 0.1697 - acc: 0.939 - ETA: 2:08 - loss: 0.1699 - acc: 0.939 - ETA: 2:07 - loss: 0.1687 - acc: 0.940 - ETA: 2:06 - loss: 0.1666 - acc: 0.941 - ETA: 2:05 - loss: 0.1659 - acc: 0.941 - ETA: 2:04 - loss: 0.1652 - acc: 0.941 - ETA: 2:03 - loss: 0.1654 - acc: 0.941 - ETA: 2:02 - loss: 0.1654 - acc: 0.941 - ETA: 2:02 - loss: 0.1637 - acc: 0.942 - ETA: 2:01 - loss: 0.1616 - acc: 0.943 - ETA: 2:00 - loss: 0.1610 - acc: 0.943 - ETA: 1:59 - loss: 0.1594 - acc: 0.943 - ETA: 1:58 - loss: 0.1583 - acc: 0.943 - ETA: 1:57 - loss: 0.1572 - acc: 0.943 - ETA: 1:56 - loss: 0.1580 - acc: 0.942 - ETA: 1:56 - loss: 0.1572 - acc: 0.942 - ETA: 1:55 - loss: 0.1563 - acc: 0.943 - ETA: 1:54 - loss: 0.1556 - acc: 0.943 - ETA: 1:53 - loss: 0.1546 - acc: 0.943 - ETA: 1:52 - loss: 0.1538 - acc: 0.944 - ETA: 1:51 - loss: 0.1526 - acc: 0.944 - ETA: 1:50 - loss: 0.1545 - acc: 0.943 - ETA: 1:50 - loss: 0.1541 - acc: 0.943 - ETA: 1:49 - loss: 0.1536 - acc: 0.943 - ETA: 1:48 - loss: 0.1533 - acc: 0.943 - ETA: 1:47 - loss: 0.1520 - acc: 0.944 - ETA: 1:46 - loss: 0.1536 - acc: 0.943 - ETA: 1:45 - loss: 0.1539 - acc: 0.943 - ETA: 1:45 - loss: 0.1523 - acc: 0.944 - ETA: 1:44 - loss: 0.1511 - acc: 0.944 - ETA: 1:43 - loss: 0.1500 - acc: 0.945 - ETA: 1:42 - loss: 0.1495 - acc: 0.945 - ETA: 1:41 - loss: 0.1485 - acc: 0.945 - ETA: 1:40 - loss: 0.1475 - acc: 0.946 - ETA: 1:39 - loss: 0.1463 - acc: 0.946 - ETA: 1:38 - loss: 0.1492 - acc: 0.946 - ETA: 1:38 - loss: 0.1490 - acc: 0.946 - ETA: 1:37 - loss: 0.1479 - acc: 0.946 - ETA: 1:36 - loss: 0.1470 - acc: 0.947 - ETA: 1:35 - loss: 0.1459 - acc: 0.947 - ETA: 1:34 - loss: 0.1453 - acc: 0.948 - ETA: 1:33 - loss: 0.1442 - acc: 0.948 - ETA: 1:32 - loss: 0.1431 - acc: 0.949 - ETA: 1:32 - loss: 0.1428 - acc: 0.948 - ETA: 1:31 - loss: 0.1421 - acc: 0.949 - ETA: 1:30 - loss: 0.1417 - acc: 0.949 - ETA: 1:29 - loss: 0.1413 - acc: 0.949 - ETA: 1:28 - loss: 0.1411 - acc: 0.949 - ETA: 1:27 - loss: 0.1399 - acc: 0.950 - ETA: 1:26 - loss: 0.1395 - acc: 0.949 - ETA: 1:26 - loss: 0.1386 - acc: 0.950 - ETA: 1:25 - loss: 0.1377 - acc: 0.950 - ETA: 1:24 - loss: 0.1374 - acc: 0.950 - ETA: 1:23 - loss: 0.1370 - acc: 0.951 - ETA: 1:22 - loss: 0.1372 - acc: 0.950 - ETA: 1:21 - loss: 0.1367 - acc: 0.950 - ETA: 1:20 - loss: 0.1357 - acc: 0.951 - ETA: 1:19 - loss: 0.1346 - acc: 0.951 - ETA: 1:19 - loss: 0.1343 - acc: 0.951 - ETA: 1:18 - loss: 0.1346 - acc: 0.950 - ETA: 1:17 - loss: 0.1338 - acc: 0.951 - ETA: 1:16 - loss: 0.1332 - acc: 0.951 - ETA: 1:15 - loss: 0.1326 - acc: 0.952 - ETA: 1:14 - loss: 0.1319 - acc: 0.952 - ETA: 1:13 - loss: 0.1320 - acc: 0.952 - ETA: 1:13 - loss: 0.1315 - acc: 0.952 - ETA: 1:12 - loss: 0.1308 - acc: 0.953 - ETA: 1:11 - loss: 0.1305 - acc: 0.952 - ETA: 1:10 - loss: 0.1308 - acc: 0.952 - ETA: 1:09 - loss: 0.1299 - acc: 0.953 - ETA: 1:08 - loss: 0.1304 - acc: 0.953 - ETA: 1:07 - loss: 0.1302 - acc: 0.952 - ETA: 1:06 - loss: 0.1294 - acc: 0.953 - ETA: 1:06 - loss: 0.1291 - acc: 0.953 - ETA: 1:05 - loss: 0.1295 - acc: 0.953 - ETA: 1:04 - loss: 0.1297 - acc: 0.952 - ETA: 1:03 - loss: 0.1295 - acc: 0.951 - ETA: 1:02 - loss: 0.1294 - acc: 0.951 - ETA: 1:01 - loss: 0.1287 - acc: 0.952 - ETA: 1:00 - loss: 0.1284 - acc: 0.952 - ETA: 1:00 - loss: 0.1288 - acc: 0.952 - ETA: 59s - loss: 0.1285 - acc: 0.952 - ETA: 58s - loss: 0.1289 - acc: 0.95 - ETA: 57s - loss: 0.1285 - acc: 0.95 - ETA: 56s - loss: 0.1285 - acc: 0.95 - ETA: 55s - loss: 0.1277 - acc: 0.95 - ETA: 54s - loss: 0.1270 - acc: 0.95 - ETA: 53s - loss: 0.1266 - acc: 0.95 - ETA: 53s - loss: 0.1262 - acc: 0.95 - ETA: 52s - loss: 0.1287 - acc: 0.95 - ETA: 51s - loss: 0.1280 - acc: 0.95 - ETA: 50s - loss: 0.1277 - acc: 0.95 - ETA: 49s - loss: 0.1271 - acc: 0.95 - ETA: 48s - loss: 0.1270 - acc: 0.95 - ETA: 47s - loss: 0.1265 - acc: 0.95 - ETA: 46s - loss: 0.1265 - acc: 0.95 - ETA: 46s - loss: 0.1261 - acc: 0.95 - ETA: 45s - loss: 0.1273 - acc: 0.95 - ETA: 44s - loss: 0.1272 - acc: 0.95 - ETA: 43s - loss: 0.1269 - acc: 0.95 - ETA: 42s - loss: 0.1272 - acc: 0.95 - ETA: 41s - loss: 0.1265 - acc: 0.95 - ETA: 40s - loss: 0.1264 - acc: 0.95 - ETA: 40s - loss: 0.1257 - acc: 0.95 - ETA: 39s - loss: 0.1256 - acc: 0.95 - ETA: 38s - loss: 0.1249 - acc: 0.95 - ETA: 37s - loss: 0.1258 - acc: 0.95 - ETA: 36s - loss: 0.1253 - acc: 0.95 - ETA: 35s - loss: 0.1249 - acc: 0.95 - ETA: 34s - loss: 0.1243 - acc: 0.95 - ETA: 33s - loss: 0.1241 - acc: 0.95 - ETA: 33s - loss: 0.1239 - acc: 0.95 - ETA: 32s - loss: 0.1233 - acc: 0.95 - ETA: 31s - loss: 0.1235 - acc: 0.95 - ETA: 30s - loss: 0.1231 - acc: 0.95 - ETA: 29s - loss: 0.1230 - acc: 0.95 - ETA: 28s - loss: 0.1223 - acc: 0.95 - ETA: 27s - loss: 0.1220 - acc: 0.95 - ETA: 26s - loss: 0.1214 - acc: 0.95 - ETA: 26s - loss: 0.1219 - acc: 0.95 - ETA: 25s - loss: 0.1254 - acc: 0.95 - ETA: 24s - loss: 0.1250 - acc: 0.95 - ETA: 23s - loss: 0.1245 - acc: 0.95 - ETA: 22s - loss: 0.1239 - acc: 0.95 - ETA: 21s - loss: 0.1253 - acc: 0.95 - ETA: 20s - loss: 0.1247 - acc: 0.95 - ETA: 20s - loss: 0.1245 - acc: 0.95 - ETA: 19s - loss: 0.1242 - acc: 0.95 - ETA: 18s - loss: 0.1240 - acc: 0.95 - ETA: 17s - loss: 0.1242 - acc: 0.95 - ETA: 16s - loss: 0.1237 - acc: 0.95 - ETA: 15s - loss: 0.1232 - acc: 0.95 - ETA: 14s - loss: 0.1244 - acc: 0.95 - ETA: 13s - loss: 0.1240 - acc: 0.95 - ETA: 13s - loss: 0.1239 - acc: 0.95 - ETA: 12s - loss: 0.1235 - acc: 0.95 - ETA: 11s - loss: 0.1235 - acc: 0.95 - ETA: 10s - loss: 0.1234 - acc: 0.95 - ETA: 9s - loss: 0.1244 - acc: 0.9555 - ETA: 8s - loss: 0.1245 - acc: 0.955 - ETA: 7s - loss: 0.1241 - acc: 0.9553216/216 [==============================] - ETA: 6s - loss: 0.1242 - acc: 0.955 - ETA: 6s - loss: 0.1241 - acc: 0.955 - ETA: 5s - loss: 0.1241 - acc: 0.955 - ETA: 4s - loss: 0.1237 - acc: 0.955 - ETA: 3s - loss: 0.1244 - acc: 0.954 - ETA: 2s - loss: 0.1241 - acc: 0.954 - ETA: 1s - loss: 0.1240 - acc: 0.955 - ETA: 0s - loss: 0.1254 - acc: 0.954 - 217s 1s/step - loss: 0.1250 - acc: 0.9549 - val_loss: 0.3110 - val_acc: 0.9075\n",
      "Epoch 8/14\n"
     ]
    },
    {
     "name": "stdout",
     "output_type": "stream",
     "text": [
      "207/216 [===========================>..] - ETA: 3:07 - loss: 0.0623 - acc: 1.000 - ETA: 3:06 - loss: 0.0854 - acc: 0.968 - ETA: 3:05 - loss: 0.1055 - acc: 0.958 - ETA: 3:04 - loss: 0.1353 - acc: 0.937 - ETA: 3:03 - loss: 0.1328 - acc: 0.937 - ETA: 3:03 - loss: 0.1169 - acc: 0.947 - ETA: 2:45 - loss: 0.1088 - acc: 0.955 - ETA: 2:46 - loss: 0.0972 - acc: 0.960 - ETA: 2:47 - loss: 0.1229 - acc: 0.944 - ETA: 2:47 - loss: 0.1153 - acc: 0.950 - ETA: 2:48 - loss: 0.1172 - acc: 0.948 - ETA: 2:48 - loss: 0.1106 - acc: 0.953 - ETA: 2:48 - loss: 0.1179 - acc: 0.951 - ETA: 2:47 - loss: 0.1159 - acc: 0.950 - ETA: 2:47 - loss: 0.1136 - acc: 0.954 - ETA: 2:47 - loss: 0.1095 - acc: 0.957 - ETA: 2:46 - loss: 0.1035 - acc: 0.959 - ETA: 2:46 - loss: 0.1018 - acc: 0.961 - ETA: 2:45 - loss: 0.1005 - acc: 0.963 - ETA: 2:45 - loss: 0.0960 - acc: 0.965 - ETA: 2:44 - loss: 0.0916 - acc: 0.967 - ETA: 2:44 - loss: 0.0901 - acc: 0.968 - ETA: 2:43 - loss: 0.0915 - acc: 0.967 - ETA: 2:42 - loss: 0.0920 - acc: 0.966 - ETA: 2:42 - loss: 0.0885 - acc: 0.967 - ETA: 2:41 - loss: 0.0863 - acc: 0.968 - ETA: 2:40 - loss: 0.0833 - acc: 0.969 - ETA: 2:40 - loss: 0.0909 - acc: 0.964 - ETA: 2:39 - loss: 0.0946 - acc: 0.963 - ETA: 2:38 - loss: 0.0928 - acc: 0.964 - ETA: 2:37 - loss: 0.0901 - acc: 0.965 - ETA: 2:37 - loss: 0.0918 - acc: 0.964 - ETA: 2:36 - loss: 0.1005 - acc: 0.962 - ETA: 2:35 - loss: 0.0988 - acc: 0.963 - ETA: 2:34 - loss: 0.0979 - acc: 0.962 - ETA: 2:34 - loss: 0.0994 - acc: 0.961 - ETA: 2:33 - loss: 0.0986 - acc: 0.961 - ETA: 2:32 - loss: 0.0977 - acc: 0.960 - ETA: 2:31 - loss: 0.0959 - acc: 0.961 - ETA: 2:30 - loss: 0.1006 - acc: 0.960 - ETA: 2:30 - loss: 0.1079 - acc: 0.960 - ETA: 2:29 - loss: 0.1069 - acc: 0.959 - ETA: 2:28 - loss: 0.1154 - acc: 0.957 - ETA: 2:27 - loss: 0.1129 - acc: 0.958 - ETA: 2:26 - loss: 0.1144 - acc: 0.958 - ETA: 2:26 - loss: 0.1145 - acc: 0.959 - ETA: 2:25 - loss: 0.1148 - acc: 0.958 - ETA: 2:24 - loss: 0.1159 - acc: 0.958 - ETA: 2:23 - loss: 0.1169 - acc: 0.957 - ETA: 2:22 - loss: 0.1154 - acc: 0.958 - ETA: 2:22 - loss: 0.1162 - acc: 0.958 - ETA: 2:21 - loss: 0.1147 - acc: 0.959 - ETA: 2:20 - loss: 0.1184 - acc: 0.957 - ETA: 2:19 - loss: 0.1215 - acc: 0.956 - ETA: 2:18 - loss: 0.1247 - acc: 0.955 - ETA: 2:17 - loss: 0.1248 - acc: 0.956 - ETA: 2:17 - loss: 0.1243 - acc: 0.957 - ETA: 2:16 - loss: 0.1225 - acc: 0.958 - ETA: 2:15 - loss: 0.1215 - acc: 0.957 - ETA: 2:14 - loss: 0.1203 - acc: 0.958 - ETA: 2:13 - loss: 0.1224 - acc: 0.957 - ETA: 2:12 - loss: 0.1219 - acc: 0.957 - ETA: 2:12 - loss: 0.1201 - acc: 0.958 - ETA: 2:11 - loss: 0.1186 - acc: 0.959 - ETA: 2:10 - loss: 0.1192 - acc: 0.958 - ETA: 2:09 - loss: 0.1186 - acc: 0.959 - ETA: 2:08 - loss: 0.1176 - acc: 0.959 - ETA: 2:07 - loss: 0.1266 - acc: 0.959 - ETA: 2:06 - loss: 0.1251 - acc: 0.960 - ETA: 2:06 - loss: 0.1237 - acc: 0.960 - ETA: 2:05 - loss: 0.1223 - acc: 0.961 - ETA: 2:04 - loss: 0.1245 - acc: 0.960 - ETA: 2:03 - loss: 0.1242 - acc: 0.960 - ETA: 2:02 - loss: 0.1246 - acc: 0.960 - ETA: 2:01 - loss: 0.1243 - acc: 0.960 - ETA: 2:01 - loss: 0.1234 - acc: 0.960 - ETA: 2:00 - loss: 0.1227 - acc: 0.960 - ETA: 1:59 - loss: 0.1215 - acc: 0.960 - ETA: 1:58 - loss: 0.1204 - acc: 0.961 - ETA: 1:57 - loss: 0.1196 - acc: 0.961 - ETA: 1:56 - loss: 0.1185 - acc: 0.962 - ETA: 1:55 - loss: 0.1174 - acc: 0.962 - ETA: 1:55 - loss: 0.1180 - acc: 0.962 - ETA: 1:54 - loss: 0.1167 - acc: 0.962 - ETA: 1:53 - loss: 0.1155 - acc: 0.963 - ETA: 1:52 - loss: 0.1162 - acc: 0.962 - ETA: 1:51 - loss: 0.1149 - acc: 0.963 - ETA: 1:50 - loss: 0.1163 - acc: 0.963 - ETA: 1:49 - loss: 0.1155 - acc: 0.963 - ETA: 1:49 - loss: 0.1148 - acc: 0.963 - ETA: 1:48 - loss: 0.1136 - acc: 0.964 - ETA: 1:47 - loss: 0.1128 - acc: 0.964 - ETA: 1:46 - loss: 0.1118 - acc: 0.965 - ETA: 1:45 - loss: 0.1106 - acc: 0.965 - ETA: 1:44 - loss: 0.1096 - acc: 0.965 - ETA: 1:43 - loss: 0.1097 - acc: 0.965 - ETA: 1:43 - loss: 0.1119 - acc: 0.965 - ETA: 1:42 - loss: 0.1112 - acc: 0.965 - ETA: 1:41 - loss: 0.1104 - acc: 0.965 - ETA: 1:40 - loss: 0.1096 - acc: 0.966 - ETA: 1:39 - loss: 0.1097 - acc: 0.966 - ETA: 1:38 - loss: 0.1094 - acc: 0.965 - ETA: 1:37 - loss: 0.1093 - acc: 0.965 - ETA: 1:37 - loss: 0.1105 - acc: 0.965 - ETA: 1:36 - loss: 0.1104 - acc: 0.964 - ETA: 1:35 - loss: 0.1103 - acc: 0.964 - ETA: 1:34 - loss: 0.1096 - acc: 0.964 - ETA: 1:33 - loss: 0.1093 - acc: 0.964 - ETA: 1:32 - loss: 0.1104 - acc: 0.963 - ETA: 1:31 - loss: 0.1098 - acc: 0.964 - ETA: 1:31 - loss: 0.1093 - acc: 0.964 - ETA: 1:30 - loss: 0.1089 - acc: 0.964 - ETA: 1:29 - loss: 0.1089 - acc: 0.965 - ETA: 1:28 - loss: 0.1090 - acc: 0.964 - ETA: 1:27 - loss: 0.1083 - acc: 0.965 - ETA: 1:26 - loss: 0.1073 - acc: 0.965 - ETA: 1:25 - loss: 0.1070 - acc: 0.965 - ETA: 1:24 - loss: 0.1063 - acc: 0.965 - ETA: 1:24 - loss: 0.1058 - acc: 0.965 - ETA: 1:23 - loss: 0.1061 - acc: 0.965 - ETA: 1:22 - loss: 0.1093 - acc: 0.964 - ETA: 1:21 - loss: 0.1085 - acc: 0.964 - ETA: 1:20 - loss: 0.1088 - acc: 0.964 - ETA: 1:19 - loss: 0.1086 - acc: 0.964 - ETA: 1:18 - loss: 0.1092 - acc: 0.964 - ETA: 1:18 - loss: 0.1088 - acc: 0.964 - ETA: 1:17 - loss: 0.1081 - acc: 0.965 - ETA: 1:16 - loss: 0.1076 - acc: 0.965 - ETA: 1:15 - loss: 0.1092 - acc: 0.965 - ETA: 1:14 - loss: 0.1093 - acc: 0.965 - ETA: 1:13 - loss: 0.1090 - acc: 0.965 - ETA: 1:12 - loss: 0.1086 - acc: 0.965 - ETA: 1:12 - loss: 0.1080 - acc: 0.965 - ETA: 1:11 - loss: 0.1122 - acc: 0.964 - ETA: 1:10 - loss: 0.1115 - acc: 0.964 - ETA: 1:09 - loss: 0.1128 - acc: 0.964 - ETA: 1:08 - loss: 0.1127 - acc: 0.964 - ETA: 1:07 - loss: 0.1120 - acc: 0.964 - ETA: 1:06 - loss: 0.1136 - acc: 0.964 - ETA: 1:05 - loss: 0.1137 - acc: 0.963 - ETA: 1:05 - loss: 0.1136 - acc: 0.964 - ETA: 1:04 - loss: 0.1133 - acc: 0.964 - ETA: 1:03 - loss: 0.1127 - acc: 0.964 - ETA: 1:02 - loss: 0.1120 - acc: 0.964 - ETA: 1:01 - loss: 0.1113 - acc: 0.965 - ETA: 1:00 - loss: 0.1138 - acc: 0.964 - ETA: 59s - loss: 0.1137 - acc: 0.963 - ETA: 59s - loss: 0.1137 - acc: 0.96 - ETA: 58s - loss: 0.1144 - acc: 0.96 - ETA: 57s - loss: 0.1145 - acc: 0.96 - ETA: 56s - loss: 0.1148 - acc: 0.96 - ETA: 55s - loss: 0.1156 - acc: 0.96 - ETA: 54s - loss: 0.1156 - acc: 0.96 - ETA: 53s - loss: 0.1149 - acc: 0.96 - ETA: 52s - loss: 0.1143 - acc: 0.96 - ETA: 52s - loss: 0.1143 - acc: 0.96 - ETA: 51s - loss: 0.1141 - acc: 0.96 - ETA: 50s - loss: 0.1135 - acc: 0.96 - ETA: 49s - loss: 0.1133 - acc: 0.96 - ETA: 48s - loss: 0.1129 - acc: 0.96 - ETA: 47s - loss: 0.1142 - acc: 0.96 - ETA: 46s - loss: 0.1145 - acc: 0.96 - ETA: 46s - loss: 0.1141 - acc: 0.96 - ETA: 45s - loss: 0.1139 - acc: 0.96 - ETA: 44s - loss: 0.1134 - acc: 0.96 - ETA: 43s - loss: 0.1130 - acc: 0.96 - ETA: 42s - loss: 0.1127 - acc: 0.96 - ETA: 41s - loss: 0.1129 - acc: 0.96 - ETA: 40s - loss: 0.1132 - acc: 0.96 - ETA: 39s - loss: 0.1132 - acc: 0.96 - ETA: 39s - loss: 0.1129 - acc: 0.96 - ETA: 38s - loss: 0.1130 - acc: 0.96 - ETA: 37s - loss: 0.1131 - acc: 0.96 - ETA: 36s - loss: 0.1132 - acc: 0.96 - ETA: 35s - loss: 0.1132 - acc: 0.96 - ETA: 34s - loss: 0.1126 - acc: 0.96 - ETA: 33s - loss: 0.1123 - acc: 0.96 - ETA: 33s - loss: 0.1123 - acc: 0.96 - ETA: 32s - loss: 0.1121 - acc: 0.96 - ETA: 31s - loss: 0.1121 - acc: 0.96 - ETA: 30s - loss: 0.1125 - acc: 0.96 - ETA: 29s - loss: 0.1160 - acc: 0.96 - ETA: 28s - loss: 0.1155 - acc: 0.96 - ETA: 27s - loss: 0.1157 - acc: 0.96 - ETA: 26s - loss: 0.1153 - acc: 0.96 - ETA: 26s - loss: 0.1151 - acc: 0.96 - ETA: 25s - loss: 0.1147 - acc: 0.96 - ETA: 24s - loss: 0.1146 - acc: 0.96 - ETA: 23s - loss: 0.1154 - acc: 0.96 - ETA: 22s - loss: 0.1154 - acc: 0.96 - ETA: 21s - loss: 0.1151 - acc: 0.96 - ETA: 20s - loss: 0.1147 - acc: 0.96 - ETA: 19s - loss: 0.1143 - acc: 0.96 - ETA: 19s - loss: 0.1142 - acc: 0.96 - ETA: 18s - loss: 0.1142 - acc: 0.96 - ETA: 17s - loss: 0.1142 - acc: 0.96 - ETA: 16s - loss: 0.1137 - acc: 0.96 - ETA: 15s - loss: 0.1137 - acc: 0.96 - ETA: 14s - loss: 0.1141 - acc: 0.96 - ETA: 13s - loss: 0.1143 - acc: 0.96 - ETA: 13s - loss: 0.1155 - acc: 0.96 - ETA: 12s - loss: 0.1157 - acc: 0.96 - ETA: 11s - loss: 0.1152 - acc: 0.96 - ETA: 10s - loss: 0.1149 - acc: 0.96 - ETA: 9s - loss: 0.1159 - acc: 0.9610 - ETA: 8s - loss: 0.1155 - acc: 0.961 - ETA: 7s - loss: 0.1150 - acc: 0.9614"
     ]
    },
    {
     "name": "stdout",
     "output_type": "stream",
     "text": [
      "216/216 [==============================] - ETA: 6s - loss: 0.1149 - acc: 0.961 - ETA: 6s - loss: 0.1151 - acc: 0.961 - ETA: 5s - loss: 0.1146 - acc: 0.961 - ETA: 4s - loss: 0.1142 - acc: 0.961 - ETA: 3s - loss: 0.1137 - acc: 0.962 - ETA: 2s - loss: 0.1142 - acc: 0.961 - ETA: 1s - loss: 0.1144 - acc: 0.961 - ETA: 0s - loss: 0.1139 - acc: 0.961 - 217s 1s/step - loss: 0.1134 - acc: 0.9618 - val_loss: 0.3458 - val_acc: 0.8983\n",
      "Epoch 9/14\n"
     ]
    },
    {
     "name": "stdout",
     "output_type": "stream",
     "text": [
      "207/216 [===========================>..] - ETA: 3:07 - loss: 0.1197 - acc: 0.937 - ETA: 3:06 - loss: 0.0726 - acc: 0.968 - ETA: 3:05 - loss: 0.1319 - acc: 0.937 - ETA: 3:04 - loss: 0.1744 - acc: 0.921 - ETA: 3:04 - loss: 0.1463 - acc: 0.937 - ETA: 3:03 - loss: 0.1403 - acc: 0.937 - ETA: 3:02 - loss: 0.1231 - acc: 0.946 - ETA: 2:46 - loss: 0.1189 - acc: 0.953 - ETA: 2:47 - loss: 0.1059 - acc: 0.958 - ETA: 2:48 - loss: 0.0959 - acc: 0.962 - ETA: 2:48 - loss: 0.1030 - acc: 0.960 - ETA: 2:48 - loss: 0.0985 - acc: 0.963 - ETA: 2:48 - loss: 0.0953 - acc: 0.966 - ETA: 2:48 - loss: 0.0900 - acc: 0.968 - ETA: 2:47 - loss: 0.0849 - acc: 0.970 - ETA: 2:47 - loss: 0.1072 - acc: 0.964 - ETA: 2:46 - loss: 0.1132 - acc: 0.959 - ETA: 2:46 - loss: 0.1106 - acc: 0.961 - ETA: 2:45 - loss: 0.1068 - acc: 0.963 - ETA: 2:45 - loss: 0.1040 - acc: 0.965 - ETA: 2:44 - loss: 0.0999 - acc: 0.967 - ETA: 2:44 - loss: 0.1074 - acc: 0.965 - ETA: 2:43 - loss: 0.1037 - acc: 0.967 - ETA: 2:43 - loss: 0.0998 - acc: 0.968 - ETA: 2:42 - loss: 0.1026 - acc: 0.967 - ETA: 2:41 - loss: 0.0997 - acc: 0.968 - ETA: 2:40 - loss: 0.0970 - acc: 0.969 - ETA: 2:40 - loss: 0.0947 - acc: 0.971 - ETA: 2:39 - loss: 0.0932 - acc: 0.972 - ETA: 2:38 - loss: 0.0938 - acc: 0.970 - ETA: 2:38 - loss: 0.0917 - acc: 0.971 - ETA: 2:37 - loss: 0.0896 - acc: 0.972 - ETA: 2:36 - loss: 0.0886 - acc: 0.973 - ETA: 2:35 - loss: 0.0894 - acc: 0.972 - ETA: 2:34 - loss: 0.0871 - acc: 0.973 - ETA: 2:34 - loss: 0.0854 - acc: 0.974 - ETA: 2:33 - loss: 0.0832 - acc: 0.974 - ETA: 2:32 - loss: 0.0887 - acc: 0.972 - ETA: 2:31 - loss: 0.0893 - acc: 0.971 - ETA: 2:31 - loss: 0.0882 - acc: 0.971 - ETA: 2:30 - loss: 0.0871 - acc: 0.972 - ETA: 2:29 - loss: 0.0867 - acc: 0.973 - ETA: 2:28 - loss: 0.0849 - acc: 0.973 - ETA: 2:27 - loss: 0.0830 - acc: 0.974 - ETA: 2:27 - loss: 0.0812 - acc: 0.975 - ETA: 2:26 - loss: 0.0810 - acc: 0.974 - ETA: 2:25 - loss: 0.0796 - acc: 0.974 - ETA: 2:24 - loss: 0.0783 - acc: 0.975 - ETA: 2:23 - loss: 0.0778 - acc: 0.975 - ETA: 2:22 - loss: 0.0779 - acc: 0.975 - ETA: 2:22 - loss: 0.0765 - acc: 0.975 - ETA: 2:21 - loss: 0.0752 - acc: 0.976 - ETA: 2:20 - loss: 0.0766 - acc: 0.975 - ETA: 2:19 - loss: 0.0752 - acc: 0.975 - ETA: 2:18 - loss: 0.0745 - acc: 0.976 - ETA: 2:17 - loss: 0.0754 - acc: 0.975 - ETA: 2:17 - loss: 0.0742 - acc: 0.975 - ETA: 2:16 - loss: 0.0751 - acc: 0.975 - ETA: 2:15 - loss: 0.0740 - acc: 0.975 - ETA: 2:14 - loss: 0.0731 - acc: 0.976 - ETA: 2:13 - loss: 0.0723 - acc: 0.976 - ETA: 2:12 - loss: 0.0723 - acc: 0.975 - ETA: 2:12 - loss: 0.0732 - acc: 0.975 - ETA: 2:11 - loss: 0.0722 - acc: 0.975 - ETA: 2:10 - loss: 0.0724 - acc: 0.975 - ETA: 2:09 - loss: 0.0763 - acc: 0.974 - ETA: 2:08 - loss: 0.0754 - acc: 0.974 - ETA: 2:07 - loss: 0.0746 - acc: 0.975 - ETA: 2:07 - loss: 0.0737 - acc: 0.975 - ETA: 2:06 - loss: 0.0728 - acc: 0.975 - ETA: 2:05 - loss: 0.0723 - acc: 0.976 - ETA: 2:04 - loss: 0.0724 - acc: 0.976 - ETA: 2:03 - loss: 0.0723 - acc: 0.976 - ETA: 2:02 - loss: 0.0723 - acc: 0.976 - ETA: 2:01 - loss: 0.0765 - acc: 0.975 - ETA: 2:01 - loss: 0.0756 - acc: 0.975 - ETA: 2:00 - loss: 0.0748 - acc: 0.975 - ETA: 1:59 - loss: 0.0745 - acc: 0.975 - ETA: 1:58 - loss: 0.0737 - acc: 0.975 - ETA: 1:57 - loss: 0.0732 - acc: 0.975 - ETA: 1:56 - loss: 0.0724 - acc: 0.976 - ETA: 1:55 - loss: 0.0753 - acc: 0.975 - ETA: 1:55 - loss: 0.0759 - acc: 0.975 - ETA: 1:54 - loss: 0.0763 - acc: 0.974 - ETA: 1:53 - loss: 0.0757 - acc: 0.974 - ETA: 1:52 - loss: 0.0748 - acc: 0.974 - ETA: 1:51 - loss: 0.0762 - acc: 0.973 - ETA: 1:50 - loss: 0.0796 - acc: 0.972 - ETA: 1:49 - loss: 0.0787 - acc: 0.972 - ETA: 1:49 - loss: 0.0780 - acc: 0.972 - ETA: 1:48 - loss: 0.0773 - acc: 0.973 - ETA: 1:47 - loss: 0.0765 - acc: 0.973 - ETA: 1:46 - loss: 0.0762 - acc: 0.973 - ETA: 1:45 - loss: 0.0760 - acc: 0.974 - ETA: 1:44 - loss: 0.0753 - acc: 0.974 - ETA: 1:43 - loss: 0.0756 - acc: 0.974 - ETA: 1:43 - loss: 0.0750 - acc: 0.974 - ETA: 1:42 - loss: 0.0743 - acc: 0.974 - ETA: 1:41 - loss: 0.0764 - acc: 0.973 - ETA: 1:40 - loss: 0.0759 - acc: 0.973 - ETA: 1:39 - loss: 0.0752 - acc: 0.974 - ETA: 1:38 - loss: 0.0749 - acc: 0.974 - ETA: 1:37 - loss: 0.0753 - acc: 0.973 - ETA: 1:37 - loss: 0.0752 - acc: 0.974 - ETA: 1:36 - loss: 0.0749 - acc: 0.974 - ETA: 1:35 - loss: 0.0749 - acc: 0.974 - ETA: 1:34 - loss: 0.0742 - acc: 0.974 - ETA: 1:33 - loss: 0.0739 - acc: 0.974 - ETA: 1:32 - loss: 0.0732 - acc: 0.974 - ETA: 1:31 - loss: 0.0728 - acc: 0.975 - ETA: 1:31 - loss: 0.0731 - acc: 0.974 - ETA: 1:30 - loss: 0.0728 - acc: 0.974 - ETA: 1:29 - loss: 0.0726 - acc: 0.975 - ETA: 1:28 - loss: 0.0722 - acc: 0.975 - ETA: 1:27 - loss: 0.0737 - acc: 0.974 - ETA: 1:26 - loss: 0.0736 - acc: 0.974 - ETA: 1:25 - loss: 0.0743 - acc: 0.974 - ETA: 1:25 - loss: 0.0743 - acc: 0.974 - ETA: 1:24 - loss: 0.0745 - acc: 0.973 - ETA: 1:23 - loss: 0.0749 - acc: 0.973 - ETA: 1:22 - loss: 0.0743 - acc: 0.973 - ETA: 1:21 - loss: 0.0751 - acc: 0.973 - ETA: 1:20 - loss: 0.0749 - acc: 0.973 - ETA: 1:19 - loss: 0.0743 - acc: 0.973 - ETA: 1:18 - loss: 0.0747 - acc: 0.973 - ETA: 1:18 - loss: 0.0757 - acc: 0.973 - ETA: 1:17 - loss: 0.0755 - acc: 0.973 - ETA: 1:16 - loss: 0.0757 - acc: 0.973 - ETA: 1:15 - loss: 0.0758 - acc: 0.973 - ETA: 1:14 - loss: 0.0755 - acc: 0.973 - ETA: 1:13 - loss: 0.0762 - acc: 0.973 - ETA: 1:12 - loss: 0.0768 - acc: 0.973 - ETA: 1:12 - loss: 0.0769 - acc: 0.973 - ETA: 1:11 - loss: 0.0772 - acc: 0.972 - ETA: 1:10 - loss: 0.0783 - acc: 0.972 - ETA: 1:09 - loss: 0.0781 - acc: 0.972 - ETA: 1:08 - loss: 0.0777 - acc: 0.973 - ETA: 1:07 - loss: 0.0776 - acc: 0.972 - ETA: 1:06 - loss: 0.0774 - acc: 0.973 - ETA: 1:05 - loss: 0.0792 - acc: 0.972 - ETA: 1:05 - loss: 0.0798 - acc: 0.972 - ETA: 1:04 - loss: 0.0803 - acc: 0.971 - ETA: 1:03 - loss: 0.0799 - acc: 0.972 - ETA: 1:02 - loss: 0.0811 - acc: 0.971 - ETA: 1:01 - loss: 0.0808 - acc: 0.972 - ETA: 1:00 - loss: 0.0807 - acc: 0.972 - ETA: 59s - loss: 0.0806 - acc: 0.972 - ETA: 59s - loss: 0.0913 - acc: 0.97 - ETA: 58s - loss: 0.0920 - acc: 0.97 - ETA: 57s - loss: 0.0917 - acc: 0.97 - ETA: 56s - loss: 0.0915 - acc: 0.97 - ETA: 55s - loss: 0.0914 - acc: 0.97 - ETA: 54s - loss: 0.0919 - acc: 0.97 - ETA: 53s - loss: 0.0928 - acc: 0.97 - ETA: 52s - loss: 0.0968 - acc: 0.96 - ETA: 52s - loss: 0.0964 - acc: 0.96 - ETA: 51s - loss: 0.0961 - acc: 0.96 - ETA: 50s - loss: 0.0958 - acc: 0.96 - ETA: 49s - loss: 0.0956 - acc: 0.96 - ETA: 48s - loss: 0.0976 - acc: 0.96 - ETA: 47s - loss: 0.0974 - acc: 0.96 - ETA: 46s - loss: 0.0970 - acc: 0.96 - ETA: 46s - loss: 0.1014 - acc: 0.96 - ETA: 45s - loss: 0.1020 - acc: 0.96 - ETA: 44s - loss: 0.1015 - acc: 0.96 - ETA: 43s - loss: 0.1017 - acc: 0.96 - ETA: 42s - loss: 0.1015 - acc: 0.96 - ETA: 41s - loss: 0.1022 - acc: 0.96 - ETA: 40s - loss: 0.1029 - acc: 0.96 - ETA: 39s - loss: 0.1032 - acc: 0.96 - ETA: 39s - loss: 0.1034 - acc: 0.96 - ETA: 38s - loss: 0.1032 - acc: 0.96 - ETA: 37s - loss: 0.1036 - acc: 0.96 - ETA: 36s - loss: 0.1030 - acc: 0.96 - ETA: 35s - loss: 0.1029 - acc: 0.96 - ETA: 34s - loss: 0.1023 - acc: 0.96 - ETA: 33s - loss: 0.1032 - acc: 0.96 - ETA: 33s - loss: 0.1039 - acc: 0.96 - ETA: 32s - loss: 0.1037 - acc: 0.96 - ETA: 31s - loss: 0.1034 - acc: 0.96 - ETA: 30s - loss: 0.1053 - acc: 0.96 - ETA: 29s - loss: 0.1050 - acc: 0.96 - ETA: 28s - loss: 0.1046 - acc: 0.96 - ETA: 27s - loss: 0.1054 - acc: 0.96 - ETA: 26s - loss: 0.1050 - acc: 0.96 - ETA: 26s - loss: 0.1050 - acc: 0.96 - ETA: 25s - loss: 0.1045 - acc: 0.96 - ETA: 24s - loss: 0.1060 - acc: 0.96 - ETA: 23s - loss: 0.1063 - acc: 0.96 - ETA: 22s - loss: 0.1078 - acc: 0.96 - ETA: 21s - loss: 0.1075 - acc: 0.96 - ETA: 20s - loss: 0.1077 - acc: 0.96 - ETA: 19s - loss: 0.1073 - acc: 0.96 - ETA: 19s - loss: 0.1077 - acc: 0.96 - ETA: 18s - loss: 0.1087 - acc: 0.96 - ETA: 17s - loss: 0.1091 - acc: 0.96 - ETA: 16s - loss: 0.1091 - acc: 0.96 - ETA: 15s - loss: 0.1092 - acc: 0.96 - ETA: 14s - loss: 0.1098 - acc: 0.96 - ETA: 13s - loss: 0.1097 - acc: 0.96 - ETA: 13s - loss: 0.1096 - acc: 0.96 - ETA: 12s - loss: 0.1098 - acc: 0.96 - ETA: 11s - loss: 0.1101 - acc: 0.96 - ETA: 10s - loss: 0.1097 - acc: 0.96 - ETA: 9s - loss: 0.1098 - acc: 0.9625 - ETA: 8s - loss: 0.1097 - acc: 0.962 - ETA: 7s - loss: 0.1094 - acc: 0.9626216/216 [==============================] - ETA: 6s - loss: 0.1090 - acc: 0.962 - ETA: 6s - loss: 0.1109 - acc: 0.962 - ETA: 5s - loss: 0.1107 - acc: 0.962 - ETA: 4s - loss: 0.1120 - acc: 0.962 - ETA: 3s - loss: 0.1115 - acc: 0.962 - ETA: 2s - loss: 0.1111 - acc: 0.962 - ETA: 1s - loss: 0.1109 - acc: 0.962 - ETA: 0s - loss: 0.1107 - acc: 0.963 - 218s 1s/step - loss: 0.1116 - acc: 0.9624 - val_loss: 0.3869 - val_acc: 0.8855\n",
      "Epoch 10/14\n"
     ]
    },
    {
     "name": "stdout",
     "output_type": "stream",
     "text": [
      "207/216 [===========================>..] - ETA: 3:10 - loss: 0.0220 - acc: 1.000 - ETA: 3:09 - loss: 0.2840 - acc: 0.937 - ETA: 3:08 - loss: 0.2197 - acc: 0.958 - ETA: 3:07 - loss: 0.2412 - acc: 0.953 - ETA: 3:06 - loss: 0.2016 - acc: 0.962 - ETA: 3:06 - loss: 0.1779 - acc: 0.958 - ETA: 3:05 - loss: 0.1615 - acc: 0.964 - ETA: 3:04 - loss: 0.1567 - acc: 0.960 - ETA: 2:50 - loss: 0.3364 - acc: 0.909 - ETA: 2:50 - loss: 0.3061 - acc: 0.918 - ETA: 2:50 - loss: 0.2865 - acc: 0.920 - ETA: 2:51 - loss: 0.2748 - acc: 0.921 - ETA: 2:50 - loss: 0.2602 - acc: 0.927 - ETA: 2:50 - loss: 0.2683 - acc: 0.924 - ETA: 2:50 - loss: 0.2869 - acc: 0.916 - ETA: 2:50 - loss: 0.2788 - acc: 0.918 - ETA: 2:49 - loss: 0.2711 - acc: 0.922 - ETA: 2:49 - loss: 0.2598 - acc: 0.927 - ETA: 2:48 - loss: 0.2508 - acc: 0.930 - ETA: 2:47 - loss: 0.2389 - acc: 0.934 - ETA: 2:47 - loss: 0.2291 - acc: 0.937 - ETA: 2:46 - loss: 0.2223 - acc: 0.937 - ETA: 2:46 - loss: 0.2136 - acc: 0.940 - ETA: 2:45 - loss: 0.2213 - acc: 0.937 - ETA: 2:44 - loss: 0.2249 - acc: 0.932 - ETA: 2:44 - loss: 0.2499 - acc: 0.930 - ETA: 2:43 - loss: 0.2497 - acc: 0.930 - ETA: 2:42 - loss: 0.2432 - acc: 0.933 - ETA: 2:41 - loss: 0.2409 - acc: 0.935 - ETA: 2:41 - loss: 0.2400 - acc: 0.935 - ETA: 2:40 - loss: 0.2400 - acc: 0.935 - ETA: 2:39 - loss: 0.2341 - acc: 0.937 - ETA: 2:38 - loss: 0.2322 - acc: 0.937 - ETA: 2:38 - loss: 0.2312 - acc: 0.937 - ETA: 2:37 - loss: 0.2309 - acc: 0.937 - ETA: 2:36 - loss: 0.2245 - acc: 0.939 - ETA: 2:35 - loss: 0.2214 - acc: 0.939 - ETA: 2:34 - loss: 0.2162 - acc: 0.940 - ETA: 2:34 - loss: 0.2147 - acc: 0.940 - ETA: 2:33 - loss: 0.2104 - acc: 0.942 - ETA: 2:32 - loss: 0.2085 - acc: 0.942 - ETA: 2:31 - loss: 0.2054 - acc: 0.942 - ETA: 2:30 - loss: 0.2026 - acc: 0.941 - ETA: 2:30 - loss: 0.1987 - acc: 0.943 - ETA: 2:29 - loss: 0.1948 - acc: 0.944 - ETA: 2:28 - loss: 0.1921 - acc: 0.945 - ETA: 2:27 - loss: 0.1892 - acc: 0.946 - ETA: 2:26 - loss: 0.1865 - acc: 0.946 - ETA: 2:25 - loss: 0.1855 - acc: 0.946 - ETA: 2:25 - loss: 0.1822 - acc: 0.947 - ETA: 2:24 - loss: 0.1807 - acc: 0.947 - ETA: 2:23 - loss: 0.1813 - acc: 0.945 - ETA: 2:22 - loss: 0.1781 - acc: 0.946 - ETA: 2:21 - loss: 0.1753 - acc: 0.947 - ETA: 2:20 - loss: 0.1727 - acc: 0.948 - ETA: 2:20 - loss: 0.1698 - acc: 0.949 - ETA: 2:19 - loss: 0.1672 - acc: 0.950 - ETA: 2:18 - loss: 0.1676 - acc: 0.949 - ETA: 2:17 - loss: 0.1674 - acc: 0.949 - ETA: 2:16 - loss: 0.1650 - acc: 0.950 - ETA: 2:15 - loss: 0.1629 - acc: 0.950 - ETA: 2:14 - loss: 0.1605 - acc: 0.951 - ETA: 2:14 - loss: 0.1581 - acc: 0.952 - ETA: 2:13 - loss: 0.1562 - acc: 0.953 - ETA: 2:12 - loss: 0.1563 - acc: 0.952 - ETA: 2:11 - loss: 0.1542 - acc: 0.953 - ETA: 2:10 - loss: 0.1523 - acc: 0.954 - ETA: 2:09 - loss: 0.1518 - acc: 0.954 - ETA: 2:08 - loss: 0.1497 - acc: 0.954 - ETA: 2:08 - loss: 0.1477 - acc: 0.955 - ETA: 2:07 - loss: 0.1458 - acc: 0.956 - ETA: 2:06 - loss: 0.1444 - acc: 0.956 - ETA: 2:05 - loss: 0.1425 - acc: 0.957 - ETA: 2:04 - loss: 0.1419 - acc: 0.957 - ETA: 2:03 - loss: 0.1405 - acc: 0.958 - ETA: 2:02 - loss: 0.1399 - acc: 0.958 - ETA: 2:02 - loss: 0.1387 - acc: 0.958 - ETA: 2:01 - loss: 0.1375 - acc: 0.959 - ETA: 2:00 - loss: 0.1394 - acc: 0.958 - ETA: 1:59 - loss: 0.1384 - acc: 0.958 - ETA: 1:58 - loss: 0.1368 - acc: 0.959 - ETA: 1:57 - loss: 0.1352 - acc: 0.959 - ETA: 1:56 - loss: 0.1346 - acc: 0.960 - ETA: 1:55 - loss: 0.1335 - acc: 0.960 - ETA: 1:55 - loss: 0.1321 - acc: 0.961 - ETA: 1:54 - loss: 0.1314 - acc: 0.961 - ETA: 1:53 - loss: 0.1300 - acc: 0.961 - ETA: 1:52 - loss: 0.1291 - acc: 0.962 - ETA: 1:51 - loss: 0.1294 - acc: 0.962 - ETA: 1:50 - loss: 0.1307 - acc: 0.961 - ETA: 1:49 - loss: 0.1293 - acc: 0.961 - ETA: 1:49 - loss: 0.1287 - acc: 0.962 - ETA: 1:48 - loss: 0.1273 - acc: 0.962 - ETA: 1:47 - loss: 0.1262 - acc: 0.962 - ETA: 1:46 - loss: 0.1249 - acc: 0.963 - ETA: 1:45 - loss: 0.1238 - acc: 0.963 - ETA: 1:44 - loss: 0.1228 - acc: 0.963 - ETA: 1:43 - loss: 0.1223 - acc: 0.964 - ETA: 1:42 - loss: 0.1211 - acc: 0.964 - ETA: 1:42 - loss: 0.1202 - acc: 0.965 - ETA: 1:41 - loss: 0.1204 - acc: 0.964 - ETA: 1:40 - loss: 0.1202 - acc: 0.964 - ETA: 1:39 - loss: 0.1203 - acc: 0.964 - ETA: 1:38 - loss: 0.1192 - acc: 0.964 - ETA: 1:37 - loss: 0.1181 - acc: 0.964 - ETA: 1:36 - loss: 0.1171 - acc: 0.965 - ETA: 1:35 - loss: 0.1171 - acc: 0.965 - ETA: 1:35 - loss: 0.1169 - acc: 0.965 - ETA: 1:34 - loss: 0.1159 - acc: 0.965 - ETA: 1:33 - loss: 0.1151 - acc: 0.965 - ETA: 1:32 - loss: 0.1156 - acc: 0.965 - ETA: 1:31 - loss: 0.1145 - acc: 0.966 - ETA: 1:30 - loss: 0.1158 - acc: 0.965 - ETA: 1:29 - loss: 0.1148 - acc: 0.965 - ETA: 1:28 - loss: 0.1138 - acc: 0.965 - ETA: 1:28 - loss: 0.1131 - acc: 0.966 - ETA: 1:27 - loss: 0.1140 - acc: 0.965 - ETA: 1:26 - loss: 0.1131 - acc: 0.966 - ETA: 1:25 - loss: 0.1123 - acc: 0.966 - ETA: 1:24 - loss: 0.1128 - acc: 0.965 - ETA: 1:23 - loss: 0.1135 - acc: 0.965 - ETA: 1:22 - loss: 0.1129 - acc: 0.965 - ETA: 1:21 - loss: 0.1121 - acc: 0.966 - ETA: 1:20 - loss: 0.1124 - acc: 0.965 - ETA: 1:20 - loss: 0.1126 - acc: 0.965 - ETA: 1:19 - loss: 0.1122 - acc: 0.965 - ETA: 1:18 - loss: 0.1118 - acc: 0.966 - ETA: 1:17 - loss: 0.1109 - acc: 0.966 - ETA: 1:16 - loss: 0.1102 - acc: 0.966 - ETA: 1:15 - loss: 0.1102 - acc: 0.966 - ETA: 1:14 - loss: 0.1100 - acc: 0.966 - ETA: 1:13 - loss: 0.1108 - acc: 0.965 - ETA: 1:13 - loss: 0.1120 - acc: 0.964 - ETA: 1:12 - loss: 0.1113 - acc: 0.965 - ETA: 1:11 - loss: 0.1116 - acc: 0.964 - ETA: 1:10 - loss: 0.1108 - acc: 0.965 - ETA: 1:09 - loss: 0.1106 - acc: 0.964 - ETA: 1:08 - loss: 0.1107 - acc: 0.964 - ETA: 1:07 - loss: 0.1101 - acc: 0.964 - ETA: 1:06 - loss: 0.1098 - acc: 0.965 - ETA: 1:06 - loss: 0.1094 - acc: 0.965 - ETA: 1:05 - loss: 0.1089 - acc: 0.965 - ETA: 1:04 - loss: 0.1081 - acc: 0.965 - ETA: 1:03 - loss: 0.1091 - acc: 0.965 - ETA: 1:02 - loss: 0.1113 - acc: 0.964 - ETA: 1:01 - loss: 0.1122 - acc: 0.964 - ETA: 1:00 - loss: 0.1115 - acc: 0.964 - ETA: 59s - loss: 0.1108 - acc: 0.964 - ETA: 59s - loss: 0.1101 - acc: 0.96 - ETA: 58s - loss: 0.1101 - acc: 0.96 - ETA: 57s - loss: 0.1097 - acc: 0.96 - ETA: 56s - loss: 0.1094 - acc: 0.96 - ETA: 55s - loss: 0.1092 - acc: 0.96 - ETA: 54s - loss: 0.1087 - acc: 0.96 - ETA: 53s - loss: 0.1099 - acc: 0.96 - ETA: 52s - loss: 0.1097 - acc: 0.96 - ETA: 51s - loss: 0.1091 - acc: 0.96 - ETA: 51s - loss: 0.1090 - acc: 0.96 - ETA: 50s - loss: 0.1091 - acc: 0.96 - ETA: 49s - loss: 0.1085 - acc: 0.96 - ETA: 48s - loss: 0.1101 - acc: 0.96 - ETA: 47s - loss: 0.1105 - acc: 0.96 - ETA: 46s - loss: 0.1099 - acc: 0.96 - ETA: 45s - loss: 0.1101 - acc: 0.96 - ETA: 44s - loss: 0.1096 - acc: 0.96 - ETA: 44s - loss: 0.1092 - acc: 0.96 - ETA: 43s - loss: 0.1095 - acc: 0.96 - ETA: 42s - loss: 0.1093 - acc: 0.96 - ETA: 41s - loss: 0.1098 - acc: 0.96 - ETA: 40s - loss: 0.1095 - acc: 0.96 - ETA: 39s - loss: 0.1090 - acc: 0.96 - ETA: 38s - loss: 0.1087 - acc: 0.96 - ETA: 37s - loss: 0.1085 - acc: 0.96 - ETA: 37s - loss: 0.1079 - acc: 0.96 - ETA: 36s - loss: 0.1079 - acc: 0.96 - ETA: 35s - loss: 0.1078 - acc: 0.96 - ETA: 34s - loss: 0.1079 - acc: 0.96 - ETA: 33s - loss: 0.1082 - acc: 0.96 - ETA: 32s - loss: 0.1082 - acc: 0.96 - ETA: 31s - loss: 0.1077 - acc: 0.96 - ETA: 30s - loss: 0.1072 - acc: 0.96 - ETA: 29s - loss: 0.1068 - acc: 0.96 - ETA: 29s - loss: 0.1062 - acc: 0.96 - ETA: 28s - loss: 0.1063 - acc: 0.96 - ETA: 27s - loss: 0.1058 - acc: 0.96 - ETA: 26s - loss: 0.1054 - acc: 0.96 - ETA: 25s - loss: 0.1057 - acc: 0.96 - ETA: 24s - loss: 0.1056 - acc: 0.96 - ETA: 23s - loss: 0.1065 - acc: 0.96 - ETA: 22s - loss: 0.1061 - acc: 0.96 - ETA: 22s - loss: 0.1058 - acc: 0.96 - ETA: 21s - loss: 0.1074 - acc: 0.96 - ETA: 20s - loss: 0.1085 - acc: 0.96 - ETA: 19s - loss: 0.1086 - acc: 0.96 - ETA: 18s - loss: 0.1103 - acc: 0.96 - ETA: 17s - loss: 0.1122 - acc: 0.96 - ETA: 16s - loss: 0.1119 - acc: 0.96 - ETA: 15s - loss: 0.1115 - acc: 0.96 - ETA: 14s - loss: 0.1110 - acc: 0.96 - ETA: 14s - loss: 0.1108 - acc: 0.96 - ETA: 13s - loss: 0.1117 - acc: 0.96 - ETA: 12s - loss: 0.1133 - acc: 0.96 - ETA: 11s - loss: 0.1130 - acc: 0.96 - ETA: 10s - loss: 0.1130 - acc: 0.96 - ETA: 9s - loss: 0.1130 - acc: 0.9634 - ETA: 8s - loss: 0.1128 - acc: 0.963 - ETA: 7s - loss: 0.1123 - acc: 0.9635"
     ]
    },
    {
     "name": "stdout",
     "output_type": "stream",
     "text": [
      "216/216 [==============================] - ETA: 7s - loss: 0.1123 - acc: 0.963 - ETA: 6s - loss: 0.1122 - acc: 0.963 - ETA: 5s - loss: 0.1121 - acc: 0.963 - ETA: 4s - loss: 0.1131 - acc: 0.962 - ETA: 3s - loss: 0.1147 - acc: 0.962 - ETA: 2s - loss: 0.1146 - acc: 0.962 - ETA: 1s - loss: 0.1145 - acc: 0.962 - ETA: 0s - loss: 0.1147 - acc: 0.961 - 220s 1s/step - loss: 0.1150 - acc: 0.9615 - val_loss: 0.3441 - val_acc: 0.8983\n",
      "Epoch 11/14\n"
     ]
    },
    {
     "name": "stdout",
     "output_type": "stream",
     "text": [
      "207/216 [===========================>..] - ETA: 3:09 - loss: 0.1138 - acc: 0.937 - ETA: 3:09 - loss: 0.1885 - acc: 0.906 - ETA: 3:08 - loss: 0.1503 - acc: 0.937 - ETA: 3:07 - loss: 0.1130 - acc: 0.953 - ETA: 3:06 - loss: 0.0912 - acc: 0.962 - ETA: 3:06 - loss: 0.0791 - acc: 0.968 - ETA: 3:05 - loss: 0.0961 - acc: 0.955 - ETA: 3:04 - loss: 0.1019 - acc: 0.953 - ETA: 3:03 - loss: 0.1152 - acc: 0.944 - ETA: 2:50 - loss: 0.1039 - acc: 0.950 - ETA: 2:51 - loss: 0.0947 - acc: 0.954 - ETA: 2:51 - loss: 0.1081 - acc: 0.953 - ETA: 2:51 - loss: 0.1055 - acc: 0.951 - ETA: 2:51 - loss: 0.1053 - acc: 0.950 - ETA: 2:50 - loss: 0.1000 - acc: 0.954 - ETA: 2:50 - loss: 0.0956 - acc: 0.957 - ETA: 2:49 - loss: 0.0903 - acc: 0.959 - ETA: 2:49 - loss: 0.0859 - acc: 0.961 - ETA: 2:48 - loss: 0.0845 - acc: 0.963 - ETA: 2:48 - loss: 0.0855 - acc: 0.962 - ETA: 2:47 - loss: 0.0826 - acc: 0.964 - ETA: 2:46 - loss: 0.0899 - acc: 0.963 - ETA: 2:46 - loss: 0.0864 - acc: 0.964 - ETA: 2:45 - loss: 0.0830 - acc: 0.966 - ETA: 2:44 - loss: 0.0800 - acc: 0.967 - ETA: 2:44 - loss: 0.0777 - acc: 0.968 - ETA: 2:43 - loss: 0.0754 - acc: 0.969 - ETA: 2:42 - loss: 0.0728 - acc: 0.971 - ETA: 2:41 - loss: 0.0704 - acc: 0.972 - ETA: 2:41 - loss: 0.0687 - acc: 0.972 - ETA: 2:40 - loss: 0.0671 - acc: 0.973 - ETA: 2:39 - loss: 0.0715 - acc: 0.972 - ETA: 2:38 - loss: 0.0705 - acc: 0.973 - ETA: 2:38 - loss: 0.0734 - acc: 0.972 - ETA: 2:37 - loss: 0.0748 - acc: 0.971 - ETA: 2:36 - loss: 0.0730 - acc: 0.972 - ETA: 2:35 - loss: 0.0712 - acc: 0.973 - ETA: 2:34 - loss: 0.0773 - acc: 0.970 - ETA: 2:34 - loss: 0.0798 - acc: 0.969 - ETA: 2:33 - loss: 0.0779 - acc: 0.970 - ETA: 2:32 - loss: 0.0761 - acc: 0.971 - ETA: 2:31 - loss: 0.0864 - acc: 0.968 - ETA: 2:30 - loss: 0.0845 - acc: 0.969 - ETA: 2:30 - loss: 0.0861 - acc: 0.968 - ETA: 2:29 - loss: 0.0848 - acc: 0.969 - ETA: 2:28 - loss: 0.0836 - acc: 0.970 - ETA: 2:27 - loss: 0.0819 - acc: 0.970 - ETA: 2:26 - loss: 0.0819 - acc: 0.970 - ETA: 2:25 - loss: 0.0804 - acc: 0.970 - ETA: 2:25 - loss: 0.0788 - acc: 0.971 - ETA: 2:24 - loss: 0.0773 - acc: 0.971 - ETA: 2:23 - loss: 0.0769 - acc: 0.972 - ETA: 2:22 - loss: 0.0768 - acc: 0.972 - ETA: 2:21 - loss: 0.0764 - acc: 0.973 - ETA: 2:20 - loss: 0.0751 - acc: 0.973 - ETA: 2:19 - loss: 0.0769 - acc: 0.973 - ETA: 2:19 - loss: 0.0780 - acc: 0.972 - ETA: 2:18 - loss: 0.0793 - acc: 0.970 - ETA: 2:17 - loss: 0.0785 - acc: 0.971 - ETA: 2:16 - loss: 0.0775 - acc: 0.971 - ETA: 2:15 - loss: 0.0764 - acc: 0.972 - ETA: 2:14 - loss: 0.0759 - acc: 0.972 - ETA: 2:14 - loss: 0.0751 - acc: 0.973 - ETA: 2:13 - loss: 0.0744 - acc: 0.973 - ETA: 2:12 - loss: 0.0757 - acc: 0.973 - ETA: 2:11 - loss: 0.0761 - acc: 0.972 - ETA: 2:10 - loss: 0.0770 - acc: 0.972 - ETA: 2:09 - loss: 0.0765 - acc: 0.972 - ETA: 2:09 - loss: 0.0758 - acc: 0.972 - ETA: 2:08 - loss: 0.0747 - acc: 0.973 - ETA: 2:07 - loss: 0.0741 - acc: 0.973 - ETA: 2:06 - loss: 0.0753 - acc: 0.973 - ETA: 2:05 - loss: 0.0743 - acc: 0.973 - ETA: 2:04 - loss: 0.0735 - acc: 0.973 - ETA: 2:03 - loss: 0.0731 - acc: 0.974 - ETA: 2:02 - loss: 0.0722 - acc: 0.974 - ETA: 2:02 - loss: 0.0717 - acc: 0.974 - ETA: 2:01 - loss: 0.0710 - acc: 0.975 - ETA: 2:00 - loss: 0.0701 - acc: 0.975 - ETA: 1:59 - loss: 0.0694 - acc: 0.975 - ETA: 1:58 - loss: 0.0699 - acc: 0.975 - ETA: 1:57 - loss: 0.0696 - acc: 0.975 - ETA: 1:56 - loss: 0.0695 - acc: 0.975 - ETA: 1:56 - loss: 0.0687 - acc: 0.975 - ETA: 1:55 - loss: 0.0682 - acc: 0.975 - ETA: 1:54 - loss: 0.0676 - acc: 0.976 - ETA: 1:53 - loss: 0.0677 - acc: 0.976 - ETA: 1:52 - loss: 0.0675 - acc: 0.976 - ETA: 1:51 - loss: 0.0671 - acc: 0.976 - ETA: 1:50 - loss: 0.0663 - acc: 0.977 - ETA: 1:49 - loss: 0.0671 - acc: 0.976 - ETA: 1:49 - loss: 0.0665 - acc: 0.976 - ETA: 1:48 - loss: 0.0669 - acc: 0.975 - ETA: 1:47 - loss: 0.0664 - acc: 0.976 - ETA: 1:46 - loss: 0.0668 - acc: 0.975 - ETA: 1:45 - loss: 0.0665 - acc: 0.975 - ETA: 1:44 - loss: 0.0672 - acc: 0.975 - ETA: 1:43 - loss: 0.0676 - acc: 0.975 - ETA: 1:42 - loss: 0.0671 - acc: 0.975 - ETA: 1:42 - loss: 0.0686 - acc: 0.975 - ETA: 1:41 - loss: 0.0680 - acc: 0.975 - ETA: 1:40 - loss: 0.0674 - acc: 0.975 - ETA: 1:39 - loss: 0.0674 - acc: 0.975 - ETA: 1:38 - loss: 0.0679 - acc: 0.975 - ETA: 1:37 - loss: 0.0677 - acc: 0.975 - ETA: 1:36 - loss: 0.0680 - acc: 0.975 - ETA: 1:35 - loss: 0.0674 - acc: 0.975 - ETA: 1:35 - loss: 0.0669 - acc: 0.975 - ETA: 1:34 - loss: 0.0694 - acc: 0.974 - ETA: 1:33 - loss: 0.0696 - acc: 0.975 - ETA: 1:32 - loss: 0.0691 - acc: 0.975 - ETA: 1:31 - loss: 0.0685 - acc: 0.975 - ETA: 1:30 - loss: 0.0681 - acc: 0.975 - ETA: 1:29 - loss: 0.0682 - acc: 0.975 - ETA: 1:28 - loss: 0.0681 - acc: 0.975 - ETA: 1:28 - loss: 0.0680 - acc: 0.975 - ETA: 1:27 - loss: 0.0676 - acc: 0.976 - ETA: 1:26 - loss: 0.0679 - acc: 0.975 - ETA: 1:25 - loss: 0.0673 - acc: 0.975 - ETA: 1:24 - loss: 0.0682 - acc: 0.975 - ETA: 1:23 - loss: 0.0682 - acc: 0.975 - ETA: 1:22 - loss: 0.0677 - acc: 0.975 - ETA: 1:21 - loss: 0.0675 - acc: 0.975 - ETA: 1:21 - loss: 0.0670 - acc: 0.975 - ETA: 1:20 - loss: 0.0667 - acc: 0.976 - ETA: 1:19 - loss: 0.0663 - acc: 0.976 - ETA: 1:18 - loss: 0.0658 - acc: 0.976 - ETA: 1:17 - loss: 0.0661 - acc: 0.976 - ETA: 1:16 - loss: 0.0681 - acc: 0.975 - ETA: 1:15 - loss: 0.0676 - acc: 0.976 - ETA: 1:14 - loss: 0.0671 - acc: 0.976 - ETA: 1:14 - loss: 0.0668 - acc: 0.976 - ETA: 1:13 - loss: 0.0676 - acc: 0.976 - ETA: 1:12 - loss: 0.0672 - acc: 0.976 - ETA: 1:11 - loss: 0.0668 - acc: 0.976 - ETA: 1:10 - loss: 0.0670 - acc: 0.976 - ETA: 1:09 - loss: 0.0665 - acc: 0.976 - ETA: 1:08 - loss: 0.0672 - acc: 0.976 - ETA: 1:07 - loss: 0.0679 - acc: 0.975 - ETA: 1:07 - loss: 0.0683 - acc: 0.975 - ETA: 1:06 - loss: 0.0689 - acc: 0.975 - ETA: 1:05 - loss: 0.0698 - acc: 0.974 - ETA: 1:04 - loss: 0.0705 - acc: 0.974 - ETA: 1:03 - loss: 0.0705 - acc: 0.974 - ETA: 1:02 - loss: 0.0724 - acc: 0.974 - ETA: 1:01 - loss: 0.0726 - acc: 0.974 - ETA: 1:00 - loss: 0.0725 - acc: 0.974 - ETA: 59s - loss: 0.0733 - acc: 0.974 - ETA: 59s - loss: 0.0731 - acc: 0.97 - ETA: 58s - loss: 0.0727 - acc: 0.97 - ETA: 57s - loss: 0.0725 - acc: 0.97 - ETA: 56s - loss: 0.0726 - acc: 0.97 - ETA: 55s - loss: 0.0725 - acc: 0.97 - ETA: 54s - loss: 0.0723 - acc: 0.97 - ETA: 53s - loss: 0.0719 - acc: 0.97 - ETA: 52s - loss: 0.0715 - acc: 0.97 - ETA: 52s - loss: 0.0711 - acc: 0.97 - ETA: 51s - loss: 0.0708 - acc: 0.97 - ETA: 50s - loss: 0.0725 - acc: 0.97 - ETA: 49s - loss: 0.0721 - acc: 0.97 - ETA: 48s - loss: 0.0718 - acc: 0.97 - ETA: 47s - loss: 0.0715 - acc: 0.97 - ETA: 46s - loss: 0.0714 - acc: 0.97 - ETA: 45s - loss: 0.0712 - acc: 0.97 - ETA: 44s - loss: 0.0708 - acc: 0.97 - ETA: 44s - loss: 0.0706 - acc: 0.97 - ETA: 43s - loss: 0.0705 - acc: 0.97 - ETA: 42s - loss: 0.0701 - acc: 0.97 - ETA: 41s - loss: 0.0711 - acc: 0.97 - ETA: 40s - loss: 0.0709 - acc: 0.97 - ETA: 39s - loss: 0.0708 - acc: 0.97 - ETA: 38s - loss: 0.0709 - acc: 0.97 - ETA: 37s - loss: 0.0711 - acc: 0.97 - ETA: 37s - loss: 0.0708 - acc: 0.97 - ETA: 36s - loss: 0.0704 - acc: 0.97 - ETA: 35s - loss: 0.0702 - acc: 0.97 - ETA: 34s - loss: 0.0699 - acc: 0.97 - ETA: 33s - loss: 0.0703 - acc: 0.97 - ETA: 32s - loss: 0.0700 - acc: 0.97 - ETA: 31s - loss: 0.0700 - acc: 0.97 - ETA: 30s - loss: 0.0696 - acc: 0.97 - ETA: 30s - loss: 0.0696 - acc: 0.97 - ETA: 29s - loss: 0.0693 - acc: 0.97 - ETA: 28s - loss: 0.0693 - acc: 0.97 - ETA: 27s - loss: 0.0690 - acc: 0.97 - ETA: 26s - loss: 0.0691 - acc: 0.97 - ETA: 25s - loss: 0.0688 - acc: 0.97 - ETA: 24s - loss: 0.0685 - acc: 0.97 - ETA: 23s - loss: 0.0700 - acc: 0.97 - ETA: 22s - loss: 0.0699 - acc: 0.97 - ETA: 22s - loss: 0.0695 - acc: 0.97 - ETA: 21s - loss: 0.0696 - acc: 0.97 - ETA: 20s - loss: 0.0695 - acc: 0.97 - ETA: 19s - loss: 0.0691 - acc: 0.97 - ETA: 18s - loss: 0.0690 - acc: 0.97 - ETA: 17s - loss: 0.0687 - acc: 0.97 - ETA: 16s - loss: 0.0687 - acc: 0.97 - ETA: 15s - loss: 0.0686 - acc: 0.97 - ETA: 15s - loss: 0.0683 - acc: 0.97 - ETA: 14s - loss: 0.0684 - acc: 0.97 - ETA: 13s - loss: 0.0681 - acc: 0.97 - ETA: 12s - loss: 0.0678 - acc: 0.97 - ETA: 11s - loss: 0.0675 - acc: 0.97 - ETA: 10s - loss: 0.0671 - acc: 0.97 - ETA: 9s - loss: 0.0669 - acc: 0.9771 - ETA: 8s - loss: 0.0690 - acc: 0.976 - ETA: 7s - loss: 0.0687 - acc: 0.9764215/216 [============================>.] - ETA: 7s - loss: 0.0685 - acc: 0.976 - ETA: 6s - loss: 0.0689 - acc: 0.976 - ETA: 5s - loss: 0.0692 - acc: 0.976 - ETA: 4s - loss: 0.0689 - acc: 0.976 - ETA: 3s - loss: 0.0686 - acc: 0.976 - ETA: 2s - loss: 0.0683 - acc: 0.976 - ETA: 1s - loss: 0.0680 - acc: 0.976 - ETA: 0s - loss: 0.0679 - acc: 0.9767"
     ]
    }
   ],
   "source": [
    "model.compile(optimizer=Adam(lr=0.00005),loss='categorical_crossentropy',metrics=['accuracy'])\n",
    "model.summary()\n",
    "History = model.fit_generator(datagen.flow(x_train,y_train, batch_size = batch_size),\n",
    "                              epochs = epochs, validation_data = (x_test,y_test),\n",
    "                             verbose = 1, steps_per_epoch=x_train.shape[0] // batch_size)\n",
    "#History = model.fit(epochs = epochs, validation_data = (x_test,y_test),\n",
    "#                              verbose = 1, steps_per_epoch=x_train.shape[0] // batch_size)\n",
    "#model.fit(x_train,y_train,epochs=epochs, validation_data = (x_test,y_test), verbose = 1,\n",
    "#          steps_per_epoch=x_train.shape[0] // batch_size, validation_steps = x_test.shape[0] // batch_size)\n",
    "#History = model.fit(x_train, y_train, epochs = epochs, batch_size = 64, verbose=1, validation_data=(x_test, y_test))"
   ]
  },
  {
   "cell_type": "code",
   "execution_count": null,
   "metadata": {},
   "outputs": [],
   "source": [
    "model.save('flowers_BN_0530_Test.h5')\n",
    "\n",
    "plt.plot(History.history['loss'])\n",
    "plt.plot(History.history['val_loss'])\n",
    "plt.title('Model Loss')\n",
    "plt.ylabel('Loss')\n",
    "plt.xlabel('Epochs')\n",
    "plt.legend(['train', 'test'])\n",
    "plt.show()\n",
    "\n",
    "plt.plot(History.history['acc'])\n",
    "plt.plot(History.history['val_acc'])\n",
    "plt.title('Model Accuracy')\n",
    "plt.ylabel('Accuracy')\n",
    "plt.xlabel('Epochs')\n",
    "plt.legend(['train', 'test'])\n",
    "plt.show()"
   ]
  },
  {
   "cell_type": "code",
   "execution_count": null,
   "metadata": {},
   "outputs": [],
   "source": [
    "# getting predictions on val set.\n",
    "import warnings\n",
    "#model = load_model('./flowers_BN.h5')\n",
    "pred = model.predict(x_test)\n",
    "pred_digits = np.argmax(pred,axis=1)\n",
    "\n",
    "# now storing some properly as well as misclassified indexes'.\n",
    "i=0\n",
    "prop_class=[]\n",
    "mis_class=[]\n",
    "\n",
    "for i in range(len(y_test)):\n",
    "    if(np.argmax(y_test[i])==pred_digits[i]):\n",
    "        prop_class.append(i)\n",
    "    if(len(prop_class)==8):\n",
    "        break\n",
    "\n",
    "i=0\n",
    "for i in range(len(y_test)):\n",
    "    if(not np.argmax(y_test[i])==pred_digits[i]):\n",
    "        mis_class.append(i)\n",
    "    if(len(mis_class)==8):\n",
    "        break"
   ]
  },
  {
   "cell_type": "code",
   "execution_count": null,
   "metadata": {},
   "outputs": [],
   "source": [
    "warnings.filterwarnings('always')\n",
    "warnings.filterwarnings('ignore')\n",
    "\n",
    "count=0\n",
    "fig,ax=plt.subplots(4,2)\n",
    "fig.set_size_inches(15,15)\n",
    "for i in range (4):\n",
    "    for j in range (2):\n",
    "        ax[i,j].imshow(x_test[prop_class[count]])\n",
    "        ax[i,j].set_title(\"Predicted Flower : \"+str(le.inverse_transform([pred_digits[prop_class[count]]]))+\"\\n\"+\"Actual Flower : \"+str(le.inverse_transform([np.argmax([y_test[prop_class[count]]])])))\n",
    "        plt.tight_layout()\n",
    "        count+=1"
   ]
  },
  {
   "cell_type": "code",
   "execution_count": null,
   "metadata": {},
   "outputs": [],
   "source": [
    "count=0\n",
    "fig,ax=plt.subplots(4,2)\n",
    "fig.set_size_inches(15,15)\n",
    "for i in range (4):\n",
    "    for j in range (2):\n",
    "        ax[i,j].imshow(x_test[mis_class[count]])\n",
    "        ax[i,j].set_title(\"Predicted Flower : \"+str(le.inverse_transform([pred_digits[mis_class[count]]]))+\"\\n\"+\"Actual Flower : \"+str(le.inverse_transform([np.argmax([y_test[mis_class[count]]])])))\n",
    "        plt.tight_layout()\n",
    "        count+=1"
   ]
  }
 ],
 "metadata": {
  "kernelspec": {
   "display_name": "Python 3",
   "language": "python",
   "name": "python3"
  },
  "language_info": {
   "codemirror_mode": {
    "name": "ipython",
    "version": 3
   },
   "file_extension": ".py",
   "mimetype": "text/x-python",
   "name": "python",
   "nbconvert_exporter": "python",
   "pygments_lexer": "ipython3",
   "version": "3.7.1"
  }
 },
 "nbformat": 4,
 "nbformat_minor": 2
}
